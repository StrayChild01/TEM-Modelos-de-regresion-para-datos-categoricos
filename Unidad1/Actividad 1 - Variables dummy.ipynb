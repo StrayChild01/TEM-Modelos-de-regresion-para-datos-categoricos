{
 "cells": [
  {
   "cell_type": "markdown",
   "metadata": {},
   "source": [
    "# Actividad 1 - Variables _dummy_ y MLR"
   ]
  },
  {
   "cell_type": "code",
   "execution_count": null,
   "metadata": {},
   "outputs": [],
   "source": [
    "personalidad <- data.frame(\n",
    "    \"escala_ep\" = c(64, 75.6, 60.6, 69.3, 63.7, 53.3, 55.7, 70.4, 37.7, 53.5, 33.9, 78.6, 46, 38.7, 65.8, 68.4, 41.9, 55, 32.1, 50.1, 52.1, 56.6, 51.8, 51.7, 25.6, 23.1, 32.8, 43.5, 12.2, 35.4, 28, 41.9),\n",
    "    \"sexo\" = c(\"Masculino\", \"Masculino\", \"Masculino\", \"Masculino\", \"Masculino\", \"Masculino\", \"Masculino\", \"Masculino\", \"Masculino\", \"Masculino\", \"Masculino\", \"Masculino\", \"Masculino\", \"Masculino\", \"Masculino\", \"Masculino\", \"Femenino\", \"Femenino\", \"Femenino\", \"Femenino\", \"Femenino\", \"Femenino\", \"Femenino\", \"Femenino\", \"Femenino\", \"Femenino\", \"Femenino\", \"Femenino\", \"Femenino\", \"Femenino\", \"Femenino\", \"Femenino\"),\n",
    "    \"rol\" = c(\"Honesto\", \"Honesto\", \"Honesto\", \"Honesto\", \"Honesto\", \"Honesto\", \"Honesto\", \"Honesto\", \"Sexista\", \"Sexista\", \"Sexista\", \"Sexista\", \"Sexista\", \"Sexista\", \"Sexista\", \"Sexista\", \"Honesto\", \"Honesto\", \"Honesto\", \"Honesto\", \"Honesto\", \"Honesto\", \"Honesto\", \"Honesto\", \"Sexista\", \"Sexista\", \"Sexista\", \"Sexista\", \"Sexista\", \"Sexista\", \"Sexista\", \"Sexista\")\n",
    "    #,stringsAsFactors = FALSE\n",
    ")\n",
    "head(personalidad, n=5)"
   ]
  },
  {
   "cell_type": "markdown",
   "metadata": {},
   "source": [
    "Creamos las variables dummy:"
   ]
  },
  {
   "cell_type": "code",
   "execution_count": null,
   "metadata": {},
   "outputs": [],
   "source": [
    "# Como sólo necesitamos crear dummies una vez, lo ejecutamos con ::\n",
    "personalidad_dumm <- fastDummies::dummy_cols(personalidad)\n",
    "head(personalidad_dumm, n=5)"
   ]
  },
  {
   "cell_type": "markdown",
   "metadata": {},
   "source": [
    "Calculamos el modelo de MLR:"
   ]
  },
  {
   "cell_type": "code",
   "execution_count": null,
   "metadata": {},
   "outputs": [],
   "source": [
    "personalidad_lm <- lm(data=personalidad_dumm, formula=escala_ep ~ sexo + rol)\n",
    "summary(personalidad_lm)$coefficients\n",
    "summary(personalidad_lm)$r.squared"
   ]
  },
  {
   "cell_type": "markdown",
   "metadata": {},
   "source": [
    "Graficamos los coeficientes:"
   ]
  },
  {
   "cell_type": "code",
   "execution_count": null,
   "metadata": {},
   "outputs": [],
   "source": [
    "library(sjPlot)\n",
    "options(repr.plot.width=4, repr.plot.height=4)\n",
    "plot_model(personalidad_lm, type = \"pred\", terms = c(\"rol\", \"sexo\"), title=\"Valores predichos de escala_ep\")"
   ]
  },
  {
   "cell_type": "markdown",
   "metadata": {},
   "source": [
    "Calculamos el modelo de MLR de las variables _dummy_ sexo_Masculino y rol_Sexista, y creamos el gráfico para guardarlo en una variable:"
   ]
  },
  {
   "cell_type": "code",
   "execution_count": null,
   "metadata": {},
   "outputs": [],
   "source": [
    "personalidad_hs_lm <- lm(data=personalidad_dumm, formula=escala_ep ~ sexo_Masculino + rol_Sexista)\n",
    "summary(personalidad_hs_lm)$coefficients \n",
    "summary(personalidad_hs_lm)$r.squared\n",
    "plt_sexM <- plot_model(personalidad_hs_lm, type = \"pred\", terms = c(\"rol_Sexista\", \"sexo_Masculino\"), title = \"Sexista M\")"
   ]
  },
  {
   "cell_type": "markdown",
   "metadata": {},
   "source": [
    "Hacemos lo mismo, pero con un modelo de sexo_Femenino y rol_Honesto:"
   ]
  },
  {
   "cell_type": "code",
   "execution_count": null,
   "metadata": {},
   "outputs": [],
   "source": [
    "library(sjPlot)\n",
    "personalidad_fs_lm <- lm(data=personalidad_dumm, formula=escala_ep ~ sexo_Femenino + rol_Honesto)\n",
    "# Extraemos la tabla de coeficientes:\n",
    "summary(personalidad_fs_lm)$coefficients\n",
    "summary(personalidad_fs_lm)$r.squared\n",
    "# Guardamos el gráfico en una variable:\n",
    "plt_sexF <-plot_model(personalidad_fs_lm, type = \"pred\", terms = c(\"rol_Honesto\", \"sexo_Femenino\"), title=\"Honesto F\")"
   ]
  },
  {
   "cell_type": "markdown",
   "metadata": {},
   "source": [
    "Imprimimos los gráficos lado a lado, para comparar:"
   ]
  },
  {
   "cell_type": "code",
   "execution_count": null,
   "metadata": {},
   "outputs": [],
   "source": [
    "suppressMessages(library(cowplot))\n",
    "options(repr.plot.width=8, repr.plot.height=4)\n",
    "plot_grid(plt_sexM,\n",
    "    plt_sexF,\n",
    "    #labels = c('Modelos con variables distintas'),\n",
    "    label_size = 3,\n",
    "    ncol=2\n",
    ")"
   ]
  },
  {
   "cell_type": "markdown",
   "metadata": {},
   "source": [
    "Hacemos la prueba de hipótesis:"
   ]
  },
  {
   "cell_type": "markdown",
   "metadata": {},
   "source": [
    "$H_{0}$: $\\beta_{0} = 0$\n",
    "\n",
    "$H_{A}$: $\\beta_{0} \\ne 0$"
   ]
  },
  {
   "cell_type": "markdown",
   "metadata": {},
   "source": [
    "En los tres modelos se observa que el valor _p_ es demasiado pequeño, por lo cual se rechaza la hipótesis nula y se dice que en ninguno de los modelos la ordenada al origen es 0, por lo cual se puede decir que el modelo ayudará a calcular la escala_ep, usando los valores de las variables sexo y rol."
   ]
  },
  {
   "cell_type": "markdown",
   "metadata": {},
   "source": [
    "Siguiendo con la significancia de las variables consideradas para la MLR:"
   ]
  },
  {
   "cell_type": "markdown",
   "metadata": {},
   "source": [
    "$H_{0}$: $\\beta_{1}=...=\\beta_{n}= 0$\n",
    "\n",
    "$H_{a}$: No existe $\\beta_{n} = 0$"
   ]
  },
  {
   "cell_type": "markdown",
   "metadata": {},
   "source": [
    "En los tres modelos se observa que el valor _p_ es demasiado pequeño, por lo cual se rechaza la hipótesis nula y se dice que al parecer todas las variables consideradas en el modelo son significativas para predecir el valor de escala_ep."
   ]
  },
  {
   "cell_type": "markdown",
   "metadata": {},
   "source": [
    "Los tres modelos tienen un coeficiente de determinación $R^2 \\approx .56$ lo cual nos dice dichos modelos tienen un ajuste regular."
   ]
  },
  {
   "cell_type": "markdown",
   "metadata": {},
   "source": [
    "De los resultados anteriores se pueden hacer las siguientes aseveraciones con sus respectivas reservas:\n",
    "\n",
    "  - Las mujeres tienen menos escala_ep\n",
    "  - A mayor machismo, menor escala_ep "
   ]
  }
 ],
 "metadata": {
  "kernelspec": {
   "display_name": "R",
   "language": "R",
   "name": "ir"
  },
  "language_info": {
   "codemirror_mode": "r",
   "file_extension": ".r",
   "mimetype": "text/x-r-source",
   "name": "R",
   "pygments_lexer": "r",
   "version": "3.6.1"
  },
  "latex_envs": {
   "LaTeX_envs_menu_present": true,
   "autoclose": false,
   "autocomplete": false,
   "bibliofile": "biblio.bib",
   "cite_by": "apalike",
   "current_citInitial": 1,
   "eqLabelWithNumbers": true,
   "eqNumInitial": 1,
   "hotkeys": {
    "equation": "Ctrl-E",
    "itemize": "Ctrl-I"
   },
   "labels_anchors": false,
   "latex_user_defs": false,
   "report_style_numbering": false,
   "user_envs_cfg": false
  }
 },
 "nbformat": 4,
 "nbformat_minor": 4
}
