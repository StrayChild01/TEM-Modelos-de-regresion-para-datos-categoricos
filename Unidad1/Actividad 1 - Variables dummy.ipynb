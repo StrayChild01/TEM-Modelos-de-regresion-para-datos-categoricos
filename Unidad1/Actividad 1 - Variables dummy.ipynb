{
 "cells": [
  {
   "cell_type": "markdown",
   "metadata": {},
   "source": [
    "# Actividad 1 - Variables _dummy_ y MLR"
   ]
  },
  {
   "cell_type": "code",
   "execution_count": 1,
   "metadata": {},
   "outputs": [
    {
     "data": {
      "text/html": [
       "<table>\n",
       "<caption>A data.frame: 5 × 3</caption>\n",
       "<thead>\n",
       "\t<tr><th scope=col>escala_ep</th><th scope=col>sexo</th><th scope=col>rol</th></tr>\n",
       "\t<tr><th scope=col>&lt;dbl&gt;</th><th scope=col>&lt;fct&gt;</th><th scope=col>&lt;fct&gt;</th></tr>\n",
       "</thead>\n",
       "<tbody>\n",
       "\t<tr><td>64.0</td><td>Masculino</td><td>Honesto</td></tr>\n",
       "\t<tr><td>75.6</td><td>Masculino</td><td>Honesto</td></tr>\n",
       "\t<tr><td>60.6</td><td>Masculino</td><td>Honesto</td></tr>\n",
       "\t<tr><td>69.3</td><td>Masculino</td><td>Honesto</td></tr>\n",
       "\t<tr><td>63.7</td><td>Masculino</td><td>Honesto</td></tr>\n",
       "</tbody>\n",
       "</table>\n"
      ],
      "text/latex": [
       "A data.frame: 5 × 3\n",
       "\\begin{tabular}{r|lll}\n",
       " escala\\_ep & sexo & rol\\\\\n",
       " <dbl> & <fct> & <fct>\\\\\n",
       "\\hline\n",
       "\t 64.0 & Masculino & Honesto\\\\\n",
       "\t 75.6 & Masculino & Honesto\\\\\n",
       "\t 60.6 & Masculino & Honesto\\\\\n",
       "\t 69.3 & Masculino & Honesto\\\\\n",
       "\t 63.7 & Masculino & Honesto\\\\\n",
       "\\end{tabular}\n"
      ],
      "text/markdown": [
       "\n",
       "A data.frame: 5 × 3\n",
       "\n",
       "| escala_ep &lt;dbl&gt; | sexo &lt;fct&gt; | rol &lt;fct&gt; |\n",
       "|---|---|---|\n",
       "| 64.0 | Masculino | Honesto |\n",
       "| 75.6 | Masculino | Honesto |\n",
       "| 60.6 | Masculino | Honesto |\n",
       "| 69.3 | Masculino | Honesto |\n",
       "| 63.7 | Masculino | Honesto |\n",
       "\n"
      ],
      "text/plain": [
       "  escala_ep sexo      rol    \n",
       "1 64.0      Masculino Honesto\n",
       "2 75.6      Masculino Honesto\n",
       "3 60.6      Masculino Honesto\n",
       "4 69.3      Masculino Honesto\n",
       "5 63.7      Masculino Honesto"
      ]
     },
     "metadata": {},
     "output_type": "display_data"
    }
   ],
   "source": [
    "personalidad <- data.frame(\n",
    "    \"escala_ep\" = c(64, 75.6, 60.6, 69.3, 63.7, 53.3, 55.7, 70.4, 37.7, 53.5, 33.9, 78.6, 46, 38.7, 65.8, 68.4, 41.9, 55, 32.1, 50.1, 52.1, 56.6, 51.8, 51.7, 25.6, 23.1, 32.8, 43.5, 12.2, 35.4, 28, 41.9),\n",
    "    \"sexo\" = c(\"Masculino\", \"Masculino\", \"Masculino\", \"Masculino\", \"Masculino\", \"Masculino\", \"Masculino\", \"Masculino\", \"Masculino\", \"Masculino\", \"Masculino\", \"Masculino\", \"Masculino\", \"Masculino\", \"Masculino\", \"Masculino\", \"Femenino\", \"Femenino\", \"Femenino\", \"Femenino\", \"Femenino\", \"Femenino\", \"Femenino\", \"Femenino\", \"Femenino\", \"Femenino\", \"Femenino\", \"Femenino\", \"Femenino\", \"Femenino\", \"Femenino\", \"Femenino\"),\n",
    "    \"rol\" = c(\"Honesto\", \"Honesto\", \"Honesto\", \"Honesto\", \"Honesto\", \"Honesto\", \"Honesto\", \"Honesto\", \"Sexista\", \"Sexista\", \"Sexista\", \"Sexista\", \"Sexista\", \"Sexista\", \"Sexista\", \"Sexista\", \"Honesto\", \"Honesto\", \"Honesto\", \"Honesto\", \"Honesto\", \"Honesto\", \"Honesto\", \"Honesto\", \"Sexista\", \"Sexista\", \"Sexista\", \"Sexista\", \"Sexista\", \"Sexista\", \"Sexista\", \"Sexista\")\n",
    "    #,stringsAsFactors = FALSE\n",
    ")\n",
    "head(personalidad, n=5)"
   ]
  },
  {
   "cell_type": "markdown",
   "metadata": {},
   "source": [
    "Creamos las variables dummy:"
   ]
  },
  {
   "cell_type": "code",
   "execution_count": 2,
   "metadata": {},
   "outputs": [
    {
     "data": {
      "text/html": [
       "<table>\n",
       "<caption>A data.frame: 5 × 7</caption>\n",
       "<thead>\n",
       "\t<tr><th scope=col>escala_ep</th><th scope=col>sexo</th><th scope=col>rol</th><th scope=col>sexo_Masculino</th><th scope=col>sexo_Femenino</th><th scope=col>rol_Honesto</th><th scope=col>rol_Sexista</th></tr>\n",
       "\t<tr><th scope=col>&lt;dbl&gt;</th><th scope=col>&lt;fct&gt;</th><th scope=col>&lt;fct&gt;</th><th scope=col>&lt;int&gt;</th><th scope=col>&lt;int&gt;</th><th scope=col>&lt;int&gt;</th><th scope=col>&lt;int&gt;</th></tr>\n",
       "</thead>\n",
       "<tbody>\n",
       "\t<tr><td>64.0</td><td>Masculino</td><td>Honesto</td><td>1</td><td>0</td><td>1</td><td>0</td></tr>\n",
       "\t<tr><td>75.6</td><td>Masculino</td><td>Honesto</td><td>1</td><td>0</td><td>1</td><td>0</td></tr>\n",
       "\t<tr><td>60.6</td><td>Masculino</td><td>Honesto</td><td>1</td><td>0</td><td>1</td><td>0</td></tr>\n",
       "\t<tr><td>69.3</td><td>Masculino</td><td>Honesto</td><td>1</td><td>0</td><td>1</td><td>0</td></tr>\n",
       "\t<tr><td>63.7</td><td>Masculino</td><td>Honesto</td><td>1</td><td>0</td><td>1</td><td>0</td></tr>\n",
       "</tbody>\n",
       "</table>\n"
      ],
      "text/latex": [
       "A data.frame: 5 × 7\n",
       "\\begin{tabular}{r|lllllll}\n",
       " escala\\_ep & sexo & rol & sexo\\_Masculino & sexo\\_Femenino & rol\\_Honesto & rol\\_Sexista\\\\\n",
       " <dbl> & <fct> & <fct> & <int> & <int> & <int> & <int>\\\\\n",
       "\\hline\n",
       "\t 64.0 & Masculino & Honesto & 1 & 0 & 1 & 0\\\\\n",
       "\t 75.6 & Masculino & Honesto & 1 & 0 & 1 & 0\\\\\n",
       "\t 60.6 & Masculino & Honesto & 1 & 0 & 1 & 0\\\\\n",
       "\t 69.3 & Masculino & Honesto & 1 & 0 & 1 & 0\\\\\n",
       "\t 63.7 & Masculino & Honesto & 1 & 0 & 1 & 0\\\\\n",
       "\\end{tabular}\n"
      ],
      "text/markdown": [
       "\n",
       "A data.frame: 5 × 7\n",
       "\n",
       "| escala_ep &lt;dbl&gt; | sexo &lt;fct&gt; | rol &lt;fct&gt; | sexo_Masculino &lt;int&gt; | sexo_Femenino &lt;int&gt; | rol_Honesto &lt;int&gt; | rol_Sexista &lt;int&gt; |\n",
       "|---|---|---|---|---|---|---|\n",
       "| 64.0 | Masculino | Honesto | 1 | 0 | 1 | 0 |\n",
       "| 75.6 | Masculino | Honesto | 1 | 0 | 1 | 0 |\n",
       "| 60.6 | Masculino | Honesto | 1 | 0 | 1 | 0 |\n",
       "| 69.3 | Masculino | Honesto | 1 | 0 | 1 | 0 |\n",
       "| 63.7 | Masculino | Honesto | 1 | 0 | 1 | 0 |\n",
       "\n"
      ],
      "text/plain": [
       "  escala_ep sexo      rol     sexo_Masculino sexo_Femenino rol_Honesto\n",
       "1 64.0      Masculino Honesto 1              0             1          \n",
       "2 75.6      Masculino Honesto 1              0             1          \n",
       "3 60.6      Masculino Honesto 1              0             1          \n",
       "4 69.3      Masculino Honesto 1              0             1          \n",
       "5 63.7      Masculino Honesto 1              0             1          \n",
       "  rol_Sexista\n",
       "1 0          \n",
       "2 0          \n",
       "3 0          \n",
       "4 0          \n",
       "5 0          "
      ]
     },
     "metadata": {},
     "output_type": "display_data"
    }
   ],
   "source": [
    "# Como sólo necesitamos crear dummies una vez, lo ejecutamos con ::\n",
    "personalidad_dumm <- fastDummies::dummy_cols(personalidad)\n",
    "head(personalidad_dumm, n=5)"
   ]
  },
  {
   "cell_type": "markdown",
   "metadata": {},
   "source": [
    "Calculamos el modelo de MLR:"
   ]
  },
  {
   "cell_type": "code",
   "execution_count": 3,
   "metadata": {},
   "outputs": [
    {
     "data": {
      "text/html": [
       "<table>\n",
       "<caption>A matrix: 3 × 4 of type dbl</caption>\n",
       "<thead>\n",
       "\t<tr><th></th><th scope=col>Estimate</th><th scope=col>Std. Error</th><th scope=col>t value</th><th scope=col>Pr(&gt;|t|)</th></tr>\n",
       "</thead>\n",
       "<tbody>\n",
       "\t<tr><th scope=row>(Intercept)</th><td> 47.0750</td><td>3.420409</td><td>13.762973</td><td>3.025927e-14</td></tr>\n",
       "\t<tr><th scope=row>sexoMasculino</th><td> 18.8375</td><td>3.949548</td><td> 4.769533</td><td>4.812044e-05</td></tr>\n",
       "\t<tr><th scope=row>rolSexista</th><td>-14.9250</td><td>3.949548</td><td>-3.778913</td><td>7.266592e-04</td></tr>\n",
       "</tbody>\n",
       "</table>\n"
      ],
      "text/latex": [
       "A matrix: 3 × 4 of type dbl\n",
       "\\begin{tabular}{r|llll}\n",
       "  & Estimate & Std. Error & t value & Pr(>\\textbar{}t\\textbar{})\\\\\n",
       "\\hline\n",
       "\t(Intercept) &  47.0750 & 3.420409 & 13.762973 & 3.025927e-14\\\\\n",
       "\tsexoMasculino &  18.8375 & 3.949548 &  4.769533 & 4.812044e-05\\\\\n",
       "\trolSexista & -14.9250 & 3.949548 & -3.778913 & 7.266592e-04\\\\\n",
       "\\end{tabular}\n"
      ],
      "text/markdown": [
       "\n",
       "A matrix: 3 × 4 of type dbl\n",
       "\n",
       "| <!--/--> | Estimate | Std. Error | t value | Pr(&gt;|t|) |\n",
       "|---|---|---|---|---|\n",
       "| (Intercept) |  47.0750 | 3.420409 | 13.762973 | 3.025927e-14 |\n",
       "| sexoMasculino |  18.8375 | 3.949548 |  4.769533 | 4.812044e-05 |\n",
       "| rolSexista | -14.9250 | 3.949548 | -3.778913 | 7.266592e-04 |\n",
       "\n"
      ],
      "text/plain": [
       "              Estimate Std. Error t value   Pr(>|t|)    \n",
       "(Intercept)    47.0750 3.420409   13.762973 3.025927e-14\n",
       "sexoMasculino  18.8375 3.949548    4.769533 4.812044e-05\n",
       "rolSexista    -14.9250 3.949548   -3.778913 7.266592e-04"
      ]
     },
     "metadata": {},
     "output_type": "display_data"
    },
    {
     "data": {
      "text/html": [
       "0.560796541545943"
      ],
      "text/latex": [
       "0.560796541545943"
      ],
      "text/markdown": [
       "0.560796541545943"
      ],
      "text/plain": [
       "[1] 0.5607965"
      ]
     },
     "metadata": {},
     "output_type": "display_data"
    }
   ],
   "source": [
    "personalidad_lm <- lm(data=personalidad_dumm, formula=escala_ep ~ sexo + rol)\n",
    "summary(personalidad_lm)$coefficients\n",
    "summary(personalidad_lm)$r.squared"
   ]
  },
  {
   "cell_type": "markdown",
   "metadata": {},
   "source": [
    "Graficamos los coeficientes:"
   ]
  },
  {
   "cell_type": "code",
   "execution_count": 4,
   "metadata": {},
   "outputs": [
    {
     "name": "stderr",
     "output_type": "stream",
     "text": [
      "Learn more about sjPlot with 'browseVignettes(\"sjPlot\")'.\n"
     ]
    },
    {
     "data": {
      "image/png": "[encoded data removed]",
      "text/plain": [
       "plot without title"
      ]
     },
     "metadata": {},
     "output_type": "display_data"
    }
   ],
   "source": [
    "library(sjPlot)\n",
    "options(repr.plot.width=4, repr.plot.height=4)\n",
    "plot_model(personalidad_lm, type = \"eff\", terms = c(\"rol\", \"sexo\"), title=\"Valores predichos de escala_ep\")"
   ]
  },
  {
   "cell_type": "markdown",
   "metadata": {},
   "source": [
    "Calculamos el modelo de MLR de las variables _dummy_ sexo_Masculino y rol_Sexista, y creamos el gráfico para guardarlo en una variable:"
   ]
  },
  {
   "cell_type": "code",
   "execution_count": 5,
   "metadata": {},
   "outputs": [
    {
     "data": {
      "text/html": [
       "<table>\n",
       "<caption>A matrix: 3 × 4 of type dbl</caption>\n",
       "<thead>\n",
       "\t<tr><th></th><th scope=col>Estimate</th><th scope=col>Std. Error</th><th scope=col>t value</th><th scope=col>Pr(&gt;|t|)</th></tr>\n",
       "</thead>\n",
       "<tbody>\n",
       "\t<tr><th scope=row>(Intercept)</th><td> 47.0750</td><td>3.420409</td><td>13.762973</td><td>3.025927e-14</td></tr>\n",
       "\t<tr><th scope=row>sexo_Masculino</th><td> 18.8375</td><td>3.949548</td><td> 4.769533</td><td>4.812044e-05</td></tr>\n",
       "\t<tr><th scope=row>rol_Sexista</th><td>-14.9250</td><td>3.949548</td><td>-3.778913</td><td>7.266592e-04</td></tr>\n",
       "</tbody>\n",
       "</table>\n"
      ],
      "text/latex": [
       "A matrix: 3 × 4 of type dbl\n",
       "\\begin{tabular}{r|llll}\n",
       "  & Estimate & Std. Error & t value & Pr(>\\textbar{}t\\textbar{})\\\\\n",
       "\\hline\n",
       "\t(Intercept) &  47.0750 & 3.420409 & 13.762973 & 3.025927e-14\\\\\n",
       "\tsexo\\_Masculino &  18.8375 & 3.949548 &  4.769533 & 4.812044e-05\\\\\n",
       "\trol\\_Sexista & -14.9250 & 3.949548 & -3.778913 & 7.266592e-04\\\\\n",
       "\\end{tabular}\n"
      ],
      "text/markdown": [
       "\n",
       "A matrix: 3 × 4 of type dbl\n",
       "\n",
       "| <!--/--> | Estimate | Std. Error | t value | Pr(&gt;|t|) |\n",
       "|---|---|---|---|---|\n",
       "| (Intercept) |  47.0750 | 3.420409 | 13.762973 | 3.025927e-14 |\n",
       "| sexo_Masculino |  18.8375 | 3.949548 |  4.769533 | 4.812044e-05 |\n",
       "| rol_Sexista | -14.9250 | 3.949548 | -3.778913 | 7.266592e-04 |\n",
       "\n"
      ],
      "text/plain": [
       "               Estimate Std. Error t value   Pr(>|t|)    \n",
       "(Intercept)     47.0750 3.420409   13.762973 3.025927e-14\n",
       "sexo_Masculino  18.8375 3.949548    4.769533 4.812044e-05\n",
       "rol_Sexista    -14.9250 3.949548   -3.778913 7.266592e-04"
      ]
     },
     "metadata": {},
     "output_type": "display_data"
    },
    {
     "data": {
      "text/html": [
       "0.560796541545943"
      ],
      "text/latex": [
       "0.560796541545943"
      ],
      "text/markdown": [
       "0.560796541545943"
      ],
      "text/plain": [
       "[1] 0.5607965"
      ]
     },
     "metadata": {},
     "output_type": "display_data"
    }
   ],
   "source": [
    "personalidad_hs_lm <- lm(data=personalidad_dumm, formula=escala_ep ~ sexo_Masculino + rol_Sexista)\n",
    "summary(personalidad_hs_lm)$coefficients \n",
    "summary(personalidad_hs_lm)$r.squared\n",
    "plt_sexM <- plot_model(personalidad_hs_lm, type = \"eff\", terms = c(\"rol_Sexista\", \"sexo_Masculino\"), title = \"Sexista M\")"
   ]
  },
  {
   "cell_type": "markdown",
   "metadata": {},
   "source": [
    "Hacemos lo mismo, pero con un modelo de sexo_Femenino y rol_Honesto:"
   ]
  },
  {
   "cell_type": "code",
   "execution_count": 6,
   "metadata": {},
   "outputs": [
    {
     "data": {
      "text/html": [
       "<table>\n",
       "<caption>A matrix: 3 × 4 of type dbl</caption>\n",
       "<thead>\n",
       "\t<tr><th></th><th scope=col>Estimate</th><th scope=col>Std. Error</th><th scope=col>t value</th><th scope=col>Pr(&gt;|t|)</th></tr>\n",
       "</thead>\n",
       "<tbody>\n",
       "\t<tr><th scope=row>(Intercept)</th><td> 50.9875</td><td>3.420409</td><td>14.906842</td><td>3.944214e-15</td></tr>\n",
       "\t<tr><th scope=row>sexo_Femenino</th><td>-18.8375</td><td>3.949548</td><td>-4.769533</td><td>4.812044e-05</td></tr>\n",
       "\t<tr><th scope=row>rol_Honesto</th><td> 14.9250</td><td>3.949548</td><td> 3.778913</td><td>7.266592e-04</td></tr>\n",
       "</tbody>\n",
       "</table>\n"
      ],
      "text/latex": [
       "A matrix: 3 × 4 of type dbl\n",
       "\\begin{tabular}{r|llll}\n",
       "  & Estimate & Std. Error & t value & Pr(>\\textbar{}t\\textbar{})\\\\\n",
       "\\hline\n",
       "\t(Intercept) &  50.9875 & 3.420409 & 14.906842 & 3.944214e-15\\\\\n",
       "\tsexo\\_Femenino & -18.8375 & 3.949548 & -4.769533 & 4.812044e-05\\\\\n",
       "\trol\\_Honesto &  14.9250 & 3.949548 &  3.778913 & 7.266592e-04\\\\\n",
       "\\end{tabular}\n"
      ],
      "text/markdown": [
       "\n",
       "A matrix: 3 × 4 of type dbl\n",
       "\n",
       "| <!--/--> | Estimate | Std. Error | t value | Pr(&gt;|t|) |\n",
       "|---|---|---|---|---|\n",
       "| (Intercept) |  50.9875 | 3.420409 | 14.906842 | 3.944214e-15 |\n",
       "| sexo_Femenino | -18.8375 | 3.949548 | -4.769533 | 4.812044e-05 |\n",
       "| rol_Honesto |  14.9250 | 3.949548 |  3.778913 | 7.266592e-04 |\n",
       "\n"
      ],
      "text/plain": [
       "              Estimate Std. Error t value   Pr(>|t|)    \n",
       "(Intercept)    50.9875 3.420409   14.906842 3.944214e-15\n",
       "sexo_Femenino -18.8375 3.949548   -4.769533 4.812044e-05\n",
       "rol_Honesto    14.9250 3.949548    3.778913 7.266592e-04"
      ]
     },
     "metadata": {},
     "output_type": "display_data"
    },
    {
     "data": {
      "text/html": [
       "0.560796541545943"
      ],
      "text/latex": [
       "0.560796541545943"
      ],
      "text/markdown": [
       "0.560796541545943"
      ],
      "text/plain": [
       "[1] 0.5607965"
      ]
     },
     "metadata": {},
     "output_type": "display_data"
    }
   ],
   "source": [
    "library(sjPlot)\n",
    "personalidad_fs_lm <- lm(data=personalidad_dumm, formula=escala_ep ~ sexo_Femenino + rol_Honesto)\n",
    "# Extraemos la tabla de coeficientes:\n",
    "summary(personalidad_fs_lm)$coefficients\n",
    "summary(personalidad_fs_lm)$r.squared\n",
    "# Guardamos el gráfico en una variable:\n",
    "plt_sexF <-plot_model(personalidad_fs_lm, type = \"pred\", terms = c(\"rol_Honesto\", \"sexo_Femenino\"), title=\"Honesto F\")"
   ]
  },
  {
   "cell_type": "markdown",
   "metadata": {},
   "source": [
    "Imprimimos los gráficos lado a lado, para comparar:"
   ]
  },
  {
   "cell_type": "code",
   "execution_count": 7,
   "metadata": {},
   "outputs": [
    {
     "data": {
      "image/png": "[encoded data removed]",
      "text/plain": [
       "plot without title"
      ]
     },
     "metadata": {},
     "output_type": "display_data"
    }
   ],
   "source": [
    "suppressMessages(library(cowplot))\n",
    "options(repr.plot.width=8, repr.plot.height=4)\n",
    "plot_grid(plt_sexM,\n",
    "    plt_sexF,\n",
    "    #labels = c('Modelos con variables distintas'),\n",
    "    label_size = 3,\n",
    "    ncol=2\n",
    ")"
   ]
  },
  {
   "cell_type": "markdown",
   "metadata": {},
   "source": [
    "Hacemos la prueba de hipótesis:"
   ]
  },
  {
   "cell_type": "markdown",
   "metadata": {},
   "source": [
    "$H_{0}$: $\\beta_{0} = 0$\n",
    "\n",
    "$H_{A}$: $\\beta_{0} \\ne 0$"
   ]
  },
  {
   "cell_type": "markdown",
   "metadata": {},
   "source": [
    "En los tres modelos se observa que el valor _p_ es demasiado pequeño, por lo cual se rechaza la hipótesis nula y se dice que en ninguno de los modelos la ordenada al origen es 0, por lo cual se puede decir que el modelo ayudará a calcular la escala_ep, usando los valores de las variables sexo y rol."
   ]
  },
  {
   "cell_type": "markdown",
   "metadata": {},
   "source": [
    "Siguiendo con la significancia de las variables consideradas para la MLR:"
   ]
  },
  {
   "cell_type": "markdown",
   "metadata": {},
   "source": [
    "$H_{0}$: $\\beta_{1}=...=\\beta_{n}= 0$\n",
    "\n",
    "$H_{a}$: No existe $\\beta_{n} = 0$"
   ]
  },
  {
   "cell_type": "markdown",
   "metadata": {},
   "source": [
    "En los tres modelos se observa que el valor _p_ es demasiado pequeño, por lo cual se rechaza la hipótesis nula y se dice que al parecer todas las variables consideradas en el modelo son significativas para predecir el valor de escala_ep."
   ]
  },
  {
   "cell_type": "markdown",
   "metadata": {},
   "source": [
    "Los tres modelos tienen un coeficiente de determinación $R^2 \\approx .56$ lo cual nos dice dichos modelos tienen un ajuste regular."
   ]
  },
  {
   "cell_type": "markdown",
   "metadata": {},
   "source": [
    "De los resultados anteriores se pueden hacer las siguientes aseveraciones con sus respectivas reservas:\n",
    "\n",
    "  - Las mujeres tienen menos escala_ep\n",
    "  - A mayor machismo, menor escala_ep "
   ]
  }
 ],
 "metadata": {
  "kernelspec": {
   "display_name": "R",
   "language": "R",
   "name": "ir"
  },
  "language_info": {
   "codemirror_mode": "r",
   "file_extension": ".r",
   "mimetype": "text/x-r-source",
   "name": "R",
   "pygments_lexer": "r",
   "version": "3.6.1"
  },
  "latex_envs": {
   "LaTeX_envs_menu_present": true,
   "autoclose": false,
   "autocomplete": false,
   "bibliofile": "biblio.bib",
   "cite_by": "apalike",
   "current_citInitial": 1,
   "eqLabelWithNumbers": true,
   "eqNumInitial": 1,
   "hotkeys": {
    "equation": "Ctrl-E",
    "itemize": "Ctrl-I"
   },
   "labels_anchors": false,
   "latex_user_defs": false,
   "report_style_numbering": false,
   "user_envs_cfg": false
  }
 },
 "nbformat": 4,
 "nbformat_minor": 4
}
