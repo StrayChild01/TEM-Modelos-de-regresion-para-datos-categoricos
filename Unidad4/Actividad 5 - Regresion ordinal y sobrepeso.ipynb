{
 "cells": [
  {
   "cell_type": "markdown",
   "metadata": {},
   "source": [
    "# Actividad 5 - Regresión Ordinal"
   ]
  },
  {
   "cell_type": "markdown",
   "metadata": {},
   "source": [
    "Cargamos los datos del excel"
   ]
  },
  {
   "cell_type": "code",
   "execution_count": null,
   "metadata": {},
   "outputs": [],
   "source": [
    "library(readxl)\n",
    "if (.Platform$OS.type==\"unix\"){ ruta_excel <- \"datasets/SPYO 1.xlsx\"\n",
    "} else ruta_excel <- \"../datasets/SPYO 1.xlsx\"\n",
    "\n",
    "datos <- read_excel(ruta_excel, sheet=\"Sheet1\")\n",
    "head(datos, n=3)"
   ]
  },
  {
   "cell_type": "markdown",
   "metadata": {},
   "source": [
    "Ordenamos nuestros datos:"
   ]
  },
  {
   "cell_type": "code",
   "execution_count": null,
   "metadata": {},
   "outputs": [],
   "source": [
    "suppressPackageStartupMessages(library(dplyr))\n",
    "\n",
    "# Ordenamos nuestros datos\n",
    "datos <- datos %>% \n",
    "    arrange(spyo, edad, sexo, asiste, NS, tipo)\n",
    "\n",
    "# SPYO es sobrepeso y obesidad\n",
    "# NS es nivel socioeconómico"
   ]
  },
  {
   "cell_type": "markdown",
   "metadata": {},
   "source": [
    "Creamos nuestras variables ordinales:"
   ]
  },
  {
   "cell_type": "code",
   "execution_count": null,
   "metadata": {},
   "outputs": [],
   "source": [
    "datos$spyo <- factor(\n",
    "    datos$spyo, levels=c(\"normal\", \"sobrepeso\", \"obesidad\"),\n",
    "    ordered=TRUE\n",
    ")\n",
    "\n",
    "datos$NS <- factor(\n",
    "    datos$NS, levels=c(\"Bajo\", \"Medio\", \"Alto\"),\n",
    "    #ordered=TRUE los L/Q/C salen de model.matrix Linear/Quadratic/Cubic\n",
    ")\n",
    "\n",
    "datos$sexo <- as.factor(datos$sexo)\n",
    "\n",
    "datos$asiste <- as.factor(datos$asiste)\n",
    "\n",
    "datos$tipo <- as.factor(datos$tipo)"
   ]
  },
  {
   "cell_type": "markdown",
   "metadata": {},
   "source": [
    "Creamos las tablas de contingencia para ver cómo están distribuidos los datos:"
   ]
  },
  {
   "cell_type": "code",
   "execution_count": null,
   "metadata": {},
   "outputs": [],
   "source": [
    "addmargins(xtabs(formula = ~spyo+asiste, data=datos))"
   ]
  },
  {
   "cell_type": "code",
   "execution_count": null,
   "metadata": {},
   "outputs": [],
   "source": [
    "addmargins(xtabs(formula = ~spyo+tipo, data=datos))"
   ]
  },
  {
   "cell_type": "markdown",
   "metadata": {},
   "source": [
    "Hacemos un gráfico para ver cómo están distribuidos los datos por tipo:"
   ]
  },
  {
   "cell_type": "code",
   "execution_count": null,
   "metadata": {},
   "outputs": [],
   "source": [
    "suppressPackageStartupMessages(library(ggplot2))\n",
    "\n",
    "ggplot(datos, aes(spyo,fill=tipo)) + \n",
    "    geom_bar() + theme_minimal() + facet_wrap(.~tipo)"
   ]
  },
  {
   "cell_type": "markdown",
   "metadata": {},
   "source": [
    "Calculamos nuestro modelo para la regresión ordinal:"
   ]
  },
  {
   "cell_type": "code",
   "execution_count": null,
   "metadata": {},
   "outputs": [],
   "source": [
    "options(scipen=999) # Deshabilitar notación científica\n",
    "suppressPackageStartupMessages(library(MASS))\n",
    "library(broom)\n",
    "\n",
    "imc_or <- polr(\n",
    "    formula = spyo~edad+sexo+asiste+NS+tipo,\n",
    "    data=datos[complete.cases(datos),], Hess=TRUE, method=\"logistic\")\n",
    "# Hay algunos asiste que tienen N/A. Los eliminamos."
   ]
  },
  {
   "cell_type": "markdown",
   "metadata": {},
   "source": [
    "Graficamos los efectos marginales del modelo para las variables edad, tipo y :"
   ]
  },
  {
   "cell_type": "code",
   "execution_count": null,
   "metadata": {},
   "outputs": [],
   "source": [
    "library(effects)\n",
    "plot(allEffects(imc_or), axes=list(y=list(style=\"stacked\")))[1:3]"
   ]
  },
  {
   "cell_type": "markdown",
   "metadata": {},
   "source": [
    "Calculamos los coeficientes exponenciados:"
   ]
  },
  {
   "cell_type": "code",
   "execution_count": null,
   "metadata": {},
   "outputs": [],
   "source": [
    "tidy(imc_or, exponentiate = TRUE, conf.int = TRUE, conf.level = 0.95)"
   ]
  },
  {
   "cell_type": "markdown",
   "metadata": {},
   "source": [
    "De la razón de momios se concluye que:\n",
    "\n",
    "- La posibilidad de pasar de IMC normal a obesidad disminuye (muy poco) cuando el niñe es de sexo femenino a comparación de un niñe de sexo masculino. El aumento de estrato aumenta la posibilidad de obesidad, también se observa que aunenta la posibilidad de sobrepeso al pasar de un tipo de vivienda rural a urbana. En todos los casos la comparación se hace con las demás variables constantes mientras sólo se cambia una de ellas."
   ]
  },
  {
   "cell_type": "code",
   "execution_count": null,
   "metadata": {},
   "outputs": [],
   "source": [
    "car::Anova(imc_or, type=3)"
   ]
  },
  {
   "cell_type": "markdown",
   "metadata": {},
   "source": [
    "Hacemos la prueba de hipótesis para los coeficientes de las variables:\n",
    "\n",
    "$H_{0}$: $\\beta_{1}=...=\\beta_{n}= 0$\n",
    "\n",
    "$H_{a}$: No existe $\\beta_{n} = 0$\n",
    "\n",
    "Nota: Como en el caso de la regresión ordinal el programa _no muestra los valores p_, utilizamos el intervalo de confianza para el estadístico:\n",
    "\n",
    "- Las variables edad, NS y tipo son significativas porque su intervalo está sobre el 1, también no se puede concluir si hay asociación entre las demás variables, porque su intervalo de confianza está sobre el 0. En la prueba de anova también se ve que la aseveración anterior es se cumple."
   ]
  },
  {
   "cell_type": "markdown",
   "metadata": {},
   "source": [
    "# Actualización después de calificar la tarea:\n",
    "\n",
    "  - Con respecto a todos tus cálculos, como corriste el modelo, como muestras las tablas muy bien, las gráficas cómo las demuestras excelente, sin embargo, creo que la conclusión te quedaste un poco corto en esta ocasión.\n",
    "\n",
    "  - Si vemos en la parte de las gráficas de efectos que están en la hoja 3, podemos concluir varias cosas primero que, con respecto a la edad, conforme aumenta la edad disminuye la probabilidad de tener un peso normal, recuerda que son variables categóricas ordinales tienen un orden no puedes pasar de normal a obesidad sin considerar sobrepeso y en este caso se va se va calculando o acumulando la probabilidad.\n",
    "\n",
    "  - Después parece ser que conforme aumenta la edad si aumenta la probabilidad de tener sobrepeso o el cambio de normal a sobrepeso y en el caso de obesidad no se nota o no es tan significativo el cambio de probabilidad, aunque también aumenta la probabilidad de tener obesidad.\n",
    "\n",
    "  - Con respecto a lo que es el sexo no se ve ningún efecto,  en la parte de asiste el nivel socioeconómico si se logra ver un cierto cambio en el nivel socioeconómico sí se ve un efecto en cuanto a que en el nivel socioeconómico alto disminuye la probabilidad de tener un peso normal y aumenta la probabilidad de tener sobrepeso así también aumenta la probabilidad de tener obesidad y con respecto al tipo si es rural o urbano pues también se ve significativo que en la zona urbana disminuye la probabilidad de tener un peso normal y aumenta la probabilidad de tener un sobrepeso.\n",
    "\n",
    "  - Aquí creo que te faltó también considerar las interacciones y en este ejercicio sí había una interacción significativa, recuerda que siempre debemos de partir del modelo saturado, no veo que lo menciones, pero a partir del modelo saturado podemos verificar normalmente en este tipo de ejemplo al menos una interacción resulta significativa"
   ]
  }
 ],
 "metadata": {
  "kernelspec": {
   "display_name": "R",
   "language": "R",
   "name": "ir"
  },
  "language_info": {
   "codemirror_mode": "r",
   "file_extension": ".r",
   "mimetype": "text/x-r-source",
   "name": "R",
   "pygments_lexer": "r",
   "version": "3.6.0"
  },
  "latex_envs": {
   "LaTeX_envs_menu_present": true,
   "autoclose": false,
   "autocomplete": false,
   "bibliofile": "biblio.bib",
   "cite_by": "apalike",
   "current_citInitial": 1,
   "eqLabelWithNumbers": true,
   "eqNumInitial": 1,
   "hotkeys": {
    "equation": "Ctrl-E",
    "itemize": "Ctrl-I"
   },
   "labels_anchors": false,
   "latex_user_defs": false,
   "report_style_numbering": false,
   "user_envs_cfg": false
  }
 },
 "nbformat": 4,
 "nbformat_minor": 4
}
