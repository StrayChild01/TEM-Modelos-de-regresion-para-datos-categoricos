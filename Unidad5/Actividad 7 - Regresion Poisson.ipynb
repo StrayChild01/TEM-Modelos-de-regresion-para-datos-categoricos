{
 "cells": [
  {
   "cell_type": "markdown",
   "metadata": {},
   "source": [
    "# Actividad 7 - Regresión Poisson y Binomial Negativa"
   ]
  },
  {
   "cell_type": "markdown",
   "metadata": {},
   "source": [
    "Cargamos el excel y lo guardamos en la variable _datos_"
   ]
  },
  {
   "cell_type": "code",
   "execution_count": 2,
   "metadata": {},
   "outputs": [
    {
     "data": {
      "text/html": [
       "<table>\n",
       "<caption>A tibble: 3 × 4</caption>\n",
       "<thead>\n",
       "\t<tr><th scope=col>age</th><th scope=col>cases</th><th scope=col>psize</th><th scope=col>cd</th></tr>\n",
       "\t<tr><th scope=col>&lt;fct&gt;</th><th scope=col>&lt;dbl&gt;</th><th scope=col>&lt;dbl&gt;</th><th scope=col>&lt;fct&gt;</th></tr>\n",
       "</thead>\n",
       "<tbody>\n",
       "\t<tr><td>85   </td><td> 40</td><td> 8328</td><td>1 Minesota</td></tr>\n",
       "\t<tr><td>75-84</td><td>133</td><td>32185</td><td>1 Minesota</td></tr>\n",
       "\t<tr><td>65-74</td><td>130</td><td>54722</td><td>1 Minesota</td></tr>\n",
       "</tbody>\n",
       "</table>\n"
      ],
      "text/latex": [
       "A tibble: 3 × 4\n",
       "\\begin{tabular}{r|llll}\n",
       " age & cases & psize & cd\\\\\n",
       " <fct> & <dbl> & <dbl> & <fct>\\\\\n",
       "\\hline\n",
       "\t 85    &  40 &  8328 & 1 Minesota\\\\\n",
       "\t 75-84 & 133 & 32185 & 1 Minesota\\\\\n",
       "\t 65-74 & 130 & 54722 & 1 Minesota\\\\\n",
       "\\end{tabular}\n"
      ],
      "text/markdown": [
       "\n",
       "A tibble: 3 × 4\n",
       "\n",
       "| age &lt;fct&gt; | cases &lt;dbl&gt; | psize &lt;dbl&gt; | cd &lt;fct&gt; |\n",
       "|---|---|---|---|\n",
       "| 85    |  40 |  8328 | 1 Minesota |\n",
       "| 75-84 | 133 | 32185 | 1 Minesota |\n",
       "| 65-74 | 130 | 54722 | 1 Minesota |\n",
       "\n"
      ],
      "text/plain": [
       "  age   cases psize cd        \n",
       "1 85     40    8328 1 Minesota\n",
       "2 75-84 133   32185 1 Minesota\n",
       "3 65-74 130   54722 1 Minesota"
      ]
     },
     "metadata": {},
     "output_type": "display_data"
    }
   ],
   "source": [
    "library(readxl)\n",
    "if (.Platform$OS.type==\"unix\"){ ruta_excel <- \"datasets/cancer de piel datos.xlsx\"\n",
    "} else ruta_excel <- \"../datasets/cancer de piel datos.xlsx\"\n",
    "\n",
    "datos <- read_excel(ruta_excel, sheet=\"Sheet1 (2)\")\n",
    "datos$cd <- as.factor(datos$cd) \n",
    "datos$age <- as.factor(datos$age)\n",
    "head(datos, n=3)"
   ]
  },
  {
   "cell_type": "markdown",
   "metadata": {},
   "source": [
    "Graficamos nuestros datos en función de la tasa de ocurrencia para ver cómo están distribuidos:"
   ]
  },
  {
   "cell_type": "code",
   "execution_count": 2,
   "metadata": {},
   "outputs": [
    {
     "data": {
      "image/png": "[encoded data removed]",
      "text/plain": [
       "plot without title"
      ]
     },
     "metadata": {},
     "output_type": "display_data"
    }
   ],
   "source": [
    "suppressPackageStartupMessages(library(ggplot2))\n",
    "ggplot(data=datos, aes(x=age, y=cases/psize, fill=cd)) +\n",
    "    geom_col() + theme_minimal() + \n",
    "    theme(axis.text.x = element_text(angle = 90)) +\n",
    "    facet_wrap(~cd)"
   ]
  },
  {
   "cell_type": "markdown",
   "metadata": {},
   "source": [
    "Como la variable de interés es la tasa de casos $(\\frac{cases}{psize})$, se tiene la fórmula:\n",
    "\n",
    "> $ \\log{(\\frac{cases}{psize})} = \\beta_0 + \\sum_i {\\beta_i X_i} $\n",
    "\n",
    "Despejando el _offset_:\n",
    "\n",
    "> \\( log(cases) - log(psize) = \\beta_0 + \\sum_i {\\beta_i X_i} \\)\n",
    "\n",
    "> \\( log(cases) = log(psize) + \\beta_0 + \\sum_i {\\beta_i X_i} \\)\n",
    "\n",
    "Por lo tanto, el offset es $log(psize)$"
   ]
  },
  {
   "cell_type": "markdown",
   "metadata": {},
   "source": [
    "La fórmula para el cálculo de la dispersión es:\n",
    "\n",
    "dispersion = $\\frac{\\chi^2}{df}$\n",
    "\n",
    "Por lo tanto, definimos la función para reusarla más adelante:"
   ]
  },
  {
   "cell_type": "code",
   "execution_count": 3,
   "metadata": {},
   "outputs": [],
   "source": [
    "calcula_disp <- function(mi_lm){\n",
    "    chisq_pearson <- sum(residuals(mi_lm, type=\"pearson\")^2)\n",
    "    return (chisq_pearson / mi_lm$df.residual)\n",
    "}"
   ]
  },
  {
   "cell_type": "markdown",
   "metadata": {},
   "source": [
    "Calculamos el modelo poisson definiendo log(psize) como offset:"
   ]
  },
  {
   "cell_type": "code",
   "execution_count": 4,
   "metadata": {},
   "outputs": [
    {
     "data": {
      "text/plain": [
       "\n",
       "Call:\n",
       "glm(formula = cases ~ cd + age + offset(log(psize)), family = poisson(link = \"log\"), \n",
       "    data = datos, control = list(maxit = 50))\n",
       "\n",
       "Deviance Residuals: \n",
       "    Min       1Q   Median       3Q      Max  \n",
       "-1.5043  -0.4816   0.0169   0.3697   1.2504  \n",
       "\n",
       "Coefficients:\n",
       "             Estimate Std. Error z value Pr(>|z|)    \n",
       "(Intercept) -11.65787    0.44871 -25.981  < 2e-16 ***\n",
       "cd2 Dallas    0.80428    0.05221  15.406  < 2e-16 ***\n",
       "age25-34      2.63019    0.46746   5.627 1.84e-08 ***\n",
       "age35-44      3.84735    0.45466   8.462  < 2e-16 ***\n",
       "age45-54      4.59519    0.45103  10.188  < 2e-16 ***\n",
       "age55-64      5.08728    0.45030  11.298  < 2e-16 ***\n",
       "age65-74      5.64541    0.44975  12.552  < 2e-16 ***\n",
       "age75-84      6.05855    0.45032  13.454  < 2e-16 ***\n",
       "age85         6.17819    0.45774  13.497  < 2e-16 ***\n",
       "---\n",
       "Signif. codes:  0 '***' 0.001 '**' 0.01 '*' 0.05 '.' 0.1 ' ' 1\n",
       "\n",
       "(Dispersion parameter for poisson family taken to be 1)\n",
       "\n",
       "    Null deviance: 2790.340  on 15  degrees of freedom\n",
       "Residual deviance:    8.195  on  7  degrees of freedom\n",
       "AIC: 120.44\n",
       "\n",
       "Number of Fisher Scoring iterations: 4\n"
      ]
     },
     "metadata": {},
     "output_type": "display_data"
    }
   ],
   "source": [
    "canpiel_lm <- glm(formula = cases ~ cd + age + offset( log(psize) ),\n",
    "    data=datos, family=poisson(link = \"log\"), control=list(maxit = 50))\n",
    "summary(canpiel_lm)"
   ]
  },
  {
   "cell_type": "markdown",
   "metadata": {},
   "source": [
    "Como tenemos _valores p_ muy pequeños, verificamos si hay sobredispersión: "
   ]
  },
  {
   "cell_type": "code",
   "execution_count": 6,
   "metadata": {},
   "outputs": [
    {
     "data": {
      "text/html": [
       "1.15180281279793"
      ],
      "text/latex": [
       "1.15180281279793"
      ],
      "text/markdown": [
       "1.15180281279793"
      ],
      "text/plain": [
       "[1] 1.151803"
      ]
     },
     "metadata": {},
     "output_type": "display_data"
    }
   ],
   "source": [
    "calcula_disp(canpiel_lm)"
   ]
  },
  {
   "cell_type": "markdown",
   "metadata": {},
   "source": [
    "Para los modelos Poisson, también se puede verificar con la función dispersion test de la librería AER:"
   ]
  },
  {
   "cell_type": "code",
   "execution_count": 7,
   "metadata": {},
   "outputs": [
    {
     "name": "stderr",
     "output_type": "stream",
     "text": [
      "Registered S3 methods overwritten by 'car':\n",
      "  method                          from\n",
      "  influence.merMod                lme4\n",
      "  cooks.distance.influence.merMod lme4\n",
      "  dfbeta.influence.merMod         lme4\n",
      "  dfbetas.influence.merMod        lme4\n",
      "Registered S3 method overwritten by 'AER':\n",
      "  method       from   \n",
      "  nobs.survreg insight\n"
     ]
    },
    {
     "data": {
      "text/plain": [
       "\n",
       "\tOverdispersion test\n",
       "\n",
       "data:  canpiel_lm\n",
       "z = -2.9865, p-value = 0.9986\n",
       "alternative hypothesis: true dispersion is greater than 1\n",
       "sample estimates:\n",
       "dispersion \n",
       " 0.5179961 \n"
      ]
     },
     "metadata": {},
     "output_type": "display_data"
    }
   ],
   "source": [
    "AER::dispersiontest(canpiel_lm) # Regresa el valor de dispersión -1"
   ]
  },
  {
   "cell_type": "markdown",
   "metadata": {},
   "source": [
    "Como hay sobredispersión, también calculamos el modelo cuasipoisson:"
   ]
  },
  {
   "cell_type": "code",
   "execution_count": 8,
   "metadata": {},
   "outputs": [],
   "source": [
    "# Offset puede ser definido como:\n",
    "# - resp ~ variables + offset(var offset)\n",
    "# - o como parámetro de la función glm\n",
    "canpiel_lmqp <- glm(formula= cases ~ cd + age, offset = log(psize),    \n",
    "    data=datos, family=quasipoisson(link = \"log\"), control = list(maxit = 50))"
   ]
  },
  {
   "cell_type": "markdown",
   "metadata": {},
   "source": [
    "Comparamos el modelo anterior contra el cuasipoisson:"
   ]
  },
  {
   "cell_type": "code",
   "execution_count": 9,
   "metadata": {},
   "outputs": [
    {
     "data": {
      "text/html": [
       "<table>\n",
       "<caption>A anova: 2 × 5</caption>\n",
       "<thead>\n",
       "\t<tr><th scope=col>Resid. Df</th><th scope=col>Resid. Dev</th><th scope=col>Df</th><th scope=col>Deviance</th><th scope=col>Pr(&gt;Chi)</th></tr>\n",
       "\t<tr><th scope=col>&lt;dbl&gt;</th><th scope=col>&lt;dbl&gt;</th><th scope=col>&lt;dbl&gt;</th><th scope=col>&lt;dbl&gt;</th><th scope=col>&lt;dbl&gt;</th></tr>\n",
       "</thead>\n",
       "<tbody>\n",
       "\t<tr><td>7</td><td>8.19505</td><td>NA</td><td>NA</td><td>NA</td></tr>\n",
       "\t<tr><td>7</td><td>8.19505</td><td> 0</td><td> 0</td><td>NA</td></tr>\n",
       "</tbody>\n",
       "</table>\n"
      ],
      "text/latex": [
       "A anova: 2 × 5\n",
       "\\begin{tabular}{r|lllll}\n",
       " Resid. Df & Resid. Dev & Df & Deviance & Pr(>Chi)\\\\\n",
       " <dbl> & <dbl> & <dbl> & <dbl> & <dbl>\\\\\n",
       "\\hline\n",
       "\t 7 & 8.19505 & NA & NA & NA\\\\\n",
       "\t 7 & 8.19505 &  0 &  0 & NA\\\\\n",
       "\\end{tabular}\n"
      ],
      "text/markdown": [
       "\n",
       "A anova: 2 × 5\n",
       "\n",
       "| Resid. Df &lt;dbl&gt; | Resid. Dev &lt;dbl&gt; | Df &lt;dbl&gt; | Deviance &lt;dbl&gt; | Pr(&gt;Chi) &lt;dbl&gt; |\n",
       "|---|---|---|---|---|\n",
       "| 7 | 8.19505 | NA | NA | NA |\n",
       "| 7 | 8.19505 |  0 |  0 | NA |\n",
       "\n"
      ],
      "text/plain": [
       "  Resid. Df Resid. Dev Df Deviance Pr(>Chi)\n",
       "1 7         8.19505    NA NA       NA      \n",
       "2 7         8.19505     0  0       NA      "
      ]
     },
     "metadata": {},
     "output_type": "display_data"
    }
   ],
   "source": [
    "anova(canpiel_lm, canpiel_lmqp, test=\"Chisq\")"
   ]
  },
  {
   "cell_type": "markdown",
   "metadata": {},
   "source": [
    "Parece que no hay cambios."
   ]
  },
  {
   "cell_type": "markdown",
   "metadata": {},
   "source": [
    "Calculamos la dispersión para el nuevo modelo:"
   ]
  },
  {
   "cell_type": "code",
   "execution_count": 10,
   "metadata": {},
   "outputs": [
    {
     "data": {
      "text/html": [
       "1.15180281279793"
      ],
      "text/latex": [
       "1.15180281279793"
      ],
      "text/markdown": [
       "1.15180281279793"
      ],
      "text/plain": [
       "[1] 1.151803"
      ]
     },
     "metadata": {},
     "output_type": "display_data"
    }
   ],
   "source": [
    "# AER::dispersiontest(modelo) sólo sirve para Poisson GLMs\n",
    "calcula_disp(canpiel_lmqp)"
   ]
  },
  {
   "cell_type": "markdown",
   "metadata": {},
   "source": [
    "Vemos que nos da el mismo resultado de _sobredispersión_ que el modelo _Poisson_ anterior. Por lo tanto, hacemos nuestro modelo con la regresión binomial negativa:"
   ]
  },
  {
   "cell_type": "code",
   "execution_count": 11,
   "metadata": {},
   "outputs": [],
   "source": [
    "canpiel_nb <- MASS::glm.nb(formula= cases ~ cd + age + offset(log(psize)),\n",
    "    data=datos, control=glm.control(maxit=150), link=log)"
   ]
  },
  {
   "cell_type": "markdown",
   "metadata": {},
   "source": [
    "Calculamos la dispersión para el nuevo modelo."
   ]
  },
  {
   "cell_type": "code",
   "execution_count": 12,
   "metadata": {},
   "outputs": [
    {
     "data": {
      "text/html": [
       "1.15180281209504"
      ],
      "text/latex": [
       "1.15180281209504"
      ],
      "text/markdown": [
       "1.15180281209504"
      ],
      "text/plain": [
       "[1] 1.151803"
      ]
     },
     "metadata": {},
     "output_type": "display_data"
    }
   ],
   "source": [
    "calcula_disp(canpiel_nb)"
   ]
  },
  {
   "cell_type": "markdown",
   "metadata": {},
   "source": [
    "Verificamos los modelos:"
   ]
  },
  {
   "cell_type": "code",
   "execution_count": 13,
   "metadata": {},
   "outputs": [
    {
     "data": {
      "text/html": [
       "<table>\n",
       "<caption>A anova: 3 × 5</caption>\n",
       "<thead>\n",
       "\t<tr><th scope=col>Resid. Df</th><th scope=col>Resid. Dev</th><th scope=col>Df</th><th scope=col>Deviance</th><th scope=col>Pr(&gt;Chi)</th></tr>\n",
       "\t<tr><th scope=col>&lt;dbl&gt;</th><th scope=col>&lt;dbl&gt;</th><th scope=col>&lt;dbl&gt;</th><th scope=col>&lt;dbl&gt;</th><th scope=col>&lt;dbl&gt;</th></tr>\n",
       "</thead>\n",
       "<tbody>\n",
       "\t<tr><td>7</td><td>8.19505</td><td>NA</td><td>          NA</td><td>NA</td></tr>\n",
       "\t<tr><td>7</td><td>8.19505</td><td> 0</td><td>0.000000e+00</td><td>NA</td></tr>\n",
       "\t<tr><td>7</td><td>8.19505</td><td> 0</td><td>4.949266e-09</td><td>NA</td></tr>\n",
       "</tbody>\n",
       "</table>\n"
      ],
      "text/latex": [
       "A anova: 3 × 5\n",
       "\\begin{tabular}{r|lllll}\n",
       " Resid. Df & Resid. Dev & Df & Deviance & Pr(>Chi)\\\\\n",
       " <dbl> & <dbl> & <dbl> & <dbl> & <dbl>\\\\\n",
       "\\hline\n",
       "\t 7 & 8.19505 & NA &           NA & NA\\\\\n",
       "\t 7 & 8.19505 &  0 & 0.000000e+00 & NA\\\\\n",
       "\t 7 & 8.19505 &  0 & 4.949266e-09 & NA\\\\\n",
       "\\end{tabular}\n"
      ],
      "text/markdown": [
       "\n",
       "A anova: 3 × 5\n",
       "\n",
       "| Resid. Df &lt;dbl&gt; | Resid. Dev &lt;dbl&gt; | Df &lt;dbl&gt; | Deviance &lt;dbl&gt; | Pr(&gt;Chi) &lt;dbl&gt; |\n",
       "|---|---|---|---|---|\n",
       "| 7 | 8.19505 | NA |           NA | NA |\n",
       "| 7 | 8.19505 |  0 | 0.000000e+00 | NA |\n",
       "| 7 | 8.19505 |  0 | 4.949266e-09 | NA |\n",
       "\n"
      ],
      "text/plain": [
       "  Resid. Df Resid. Dev Df Deviance     Pr(>Chi)\n",
       "1 7         8.19505    NA           NA NA      \n",
       "2 7         8.19505     0 0.000000e+00 NA      \n",
       "3 7         8.19505     0 4.949266e-09 NA      "
      ]
     },
     "metadata": {},
     "output_type": "display_data"
    }
   ],
   "source": [
    "anova(canpiel_lm, canpiel_lmqp, canpiel_nb, test=\"Chisq\")"
   ]
  },
  {
   "cell_type": "markdown",
   "metadata": {},
   "source": [
    "Calculando los coeficientes exponenciados:"
   ]
  },
  {
   "cell_type": "code",
   "execution_count": 14,
   "metadata": {},
   "outputs": [
    {
     "data": {
      "text/html": [
       "<table>\n",
       "<caption>A tibble: 9 × 7</caption>\n",
       "<thead>\n",
       "\t<tr><th scope=col>term</th><th scope=col>estimate</th><th scope=col>std.error</th><th scope=col>statistic</th><th scope=col>p.value</th><th scope=col>conf.low</th><th scope=col>conf.high</th></tr>\n",
       "\t<tr><th scope=col>&lt;chr&gt;</th><th scope=col>&lt;dbl&gt;</th><th scope=col>&lt;dbl&gt;</th><th scope=col>&lt;dbl&gt;</th><th scope=col>&lt;dbl&gt;</th><th scope=col>&lt;dbl&gt;</th><th scope=col>&lt;dbl&gt;</th></tr>\n",
       "</thead>\n",
       "<tbody>\n",
       "\t<tr><td>(Intercept)</td><td>8.650664e-06</td><td>0.44870950</td><td>-25.980895</td><td>8.142527e-149</td><td>3.094580e-06</td><td>1.865750e-05</td></tr>\n",
       "\t<tr><td>cd2 Dallas </td><td>2.235075e+00</td><td>0.05220539</td><td> 15.405976</td><td> 1.492198e-53</td><td>2.019074e+00</td><td>2.477692e+00</td></tr>\n",
       "\t<tr><td>age25-34   </td><td>1.387643e+01</td><td>0.46746149</td><td>  5.626542</td><td> 1.838575e-08</td><td>6.128135e+00</td><td>3.984269e+01</td></tr>\n",
       "\t<tr><td>age35-44   </td><td>4.686883e+01</td><td>0.45465935</td><td>  8.462056</td><td> 2.627044e-17</td><td>2.139976e+01</td><td>1.321343e+02</td></tr>\n",
       "\t<tr><td>age45-54   </td><td>9.900654e+01</td><td>0.45102873</td><td> 10.188233</td><td> 2.237938e-24</td><td>4.563038e+01</td><td>2.776803e+02</td></tr>\n",
       "\t<tr><td>age55-64   </td><td>1.619490e+02</td><td>0.45030105</td><td> 11.297512</td><td> 1.349878e-29</td><td>7.477971e+01</td><td>4.537333e+02</td></tr>\n",
       "\t<tr><td>age65-74   </td><td>2.829908e+02</td><td>0.44974750</td><td> 12.552409</td><td> 3.855982e-36</td><td>1.308569e+02</td><td>7.922290e+02</td></tr>\n",
       "\t<tr><td>age75-84   </td><td>4.277533e+02</td><td>0.45032042</td><td> 13.453857</td><td> 2.922215e-41</td><td>1.975048e+02</td><td>1.198477e+03</td></tr>\n",
       "\t<tr><td>age85      </td><td>4.821178e+02</td><td>0.45774076</td><td> 13.497134</td><td> 1.625787e-41</td><td>2.183764e+02</td><td>1.365244e+03</td></tr>\n",
       "</tbody>\n",
       "</table>\n"
      ],
      "text/latex": [
       "A tibble: 9 × 7\n",
       "\\begin{tabular}{r|lllllll}\n",
       " term & estimate & std.error & statistic & p.value & conf.low & conf.high\\\\\n",
       " <chr> & <dbl> & <dbl> & <dbl> & <dbl> & <dbl> & <dbl>\\\\\n",
       "\\hline\n",
       "\t (Intercept) & 8.650664e-06 & 0.44870950 & -25.980895 & 8.142527e-149 & 3.094580e-06 & 1.865750e-05\\\\\n",
       "\t cd2 Dallas  & 2.235075e+00 & 0.05220539 &  15.405976 &  1.492198e-53 & 2.019074e+00 & 2.477692e+00\\\\\n",
       "\t age25-34    & 1.387643e+01 & 0.46746149 &   5.626542 &  1.838575e-08 & 6.128135e+00 & 3.984269e+01\\\\\n",
       "\t age35-44    & 4.686883e+01 & 0.45465935 &   8.462056 &  2.627044e-17 & 2.139976e+01 & 1.321343e+02\\\\\n",
       "\t age45-54    & 9.900654e+01 & 0.45102873 &  10.188233 &  2.237938e-24 & 4.563038e+01 & 2.776803e+02\\\\\n",
       "\t age55-64    & 1.619490e+02 & 0.45030105 &  11.297512 &  1.349878e-29 & 7.477971e+01 & 4.537333e+02\\\\\n",
       "\t age65-74    & 2.829908e+02 & 0.44974750 &  12.552409 &  3.855982e-36 & 1.308569e+02 & 7.922290e+02\\\\\n",
       "\t age75-84    & 4.277533e+02 & 0.45032042 &  13.453857 &  2.922215e-41 & 1.975048e+02 & 1.198477e+03\\\\\n",
       "\t age85       & 4.821178e+02 & 0.45774076 &  13.497134 &  1.625787e-41 & 2.183764e+02 & 1.365244e+03\\\\\n",
       "\\end{tabular}\n"
      ],
      "text/markdown": [
       "\n",
       "A tibble: 9 × 7\n",
       "\n",
       "| term &lt;chr&gt; | estimate &lt;dbl&gt; | std.error &lt;dbl&gt; | statistic &lt;dbl&gt; | p.value &lt;dbl&gt; | conf.low &lt;dbl&gt; | conf.high &lt;dbl&gt; |\n",
       "|---|---|---|---|---|---|---|\n",
       "| (Intercept) | 8.650664e-06 | 0.44870950 | -25.980895 | 8.142527e-149 | 3.094580e-06 | 1.865750e-05 |\n",
       "| cd2 Dallas  | 2.235075e+00 | 0.05220539 |  15.405976 |  1.492198e-53 | 2.019074e+00 | 2.477692e+00 |\n",
       "| age25-34    | 1.387643e+01 | 0.46746149 |   5.626542 |  1.838575e-08 | 6.128135e+00 | 3.984269e+01 |\n",
       "| age35-44    | 4.686883e+01 | 0.45465935 |   8.462056 |  2.627044e-17 | 2.139976e+01 | 1.321343e+02 |\n",
       "| age45-54    | 9.900654e+01 | 0.45102873 |  10.188233 |  2.237938e-24 | 4.563038e+01 | 2.776803e+02 |\n",
       "| age55-64    | 1.619490e+02 | 0.45030105 |  11.297512 |  1.349878e-29 | 7.477971e+01 | 4.537333e+02 |\n",
       "| age65-74    | 2.829908e+02 | 0.44974750 |  12.552409 |  3.855982e-36 | 1.308569e+02 | 7.922290e+02 |\n",
       "| age75-84    | 4.277533e+02 | 0.45032042 |  13.453857 |  2.922215e-41 | 1.975048e+02 | 1.198477e+03 |\n",
       "| age85       | 4.821178e+02 | 0.45774076 |  13.497134 |  1.625787e-41 | 2.183764e+02 | 1.365244e+03 |\n",
       "\n"
      ],
      "text/plain": [
       "  term        estimate     std.error  statistic  p.value       conf.low    \n",
       "1 (Intercept) 8.650664e-06 0.44870950 -25.980895 8.142527e-149 3.094580e-06\n",
       "2 cd2 Dallas  2.235075e+00 0.05220539  15.405976  1.492198e-53 2.019074e+00\n",
       "3 age25-34    1.387643e+01 0.46746149   5.626542  1.838575e-08 6.128135e+00\n",
       "4 age35-44    4.686883e+01 0.45465935   8.462056  2.627044e-17 2.139976e+01\n",
       "5 age45-54    9.900654e+01 0.45102873  10.188233  2.237938e-24 4.563038e+01\n",
       "6 age55-64    1.619490e+02 0.45030105  11.297512  1.349878e-29 7.477971e+01\n",
       "7 age65-74    2.829908e+02 0.44974750  12.552409  3.855982e-36 1.308569e+02\n",
       "8 age75-84    4.277533e+02 0.45032042  13.453857  2.922215e-41 1.975048e+02\n",
       "9 age85       4.821178e+02 0.45774076  13.497134  1.625787e-41 2.183764e+02\n",
       "  conf.high   \n",
       "1 1.865750e-05\n",
       "2 2.477692e+00\n",
       "3 3.984269e+01\n",
       "4 1.321343e+02\n",
       "5 2.776803e+02\n",
       "6 4.537333e+02\n",
       "7 7.922290e+02\n",
       "8 1.198477e+03\n",
       "9 1.365244e+03"
      ]
     },
     "metadata": {},
     "output_type": "display_data"
    }
   ],
   "source": [
    "broom::tidy(canpiel_nb, exponentiate = TRUE, conf.int = TRUE, conf.level = 0.95)"
   ]
  },
  {
   "cell_type": "markdown",
   "metadata": {},
   "source": [
    "Graficamos el modelo:"
   ]
  },
  {
   "cell_type": "code",
   "execution_count": 15,
   "metadata": {},
   "outputs": [
    {
     "name": "stderr",
     "output_type": "stream",
     "text": [
      "Warning message:\n",
      "\"Removed 2 rows containing missing values (geom_errorbar).\""
     ]
    },
    {
     "data": {
      "image/png": "[encoded data removed]",
      "text/plain": [
       "plot without title"
      ]
     },
     "metadata": {},
     "output_type": "display_data"
    }
   ],
   "source": [
    "suppressPackageStartupMessages(library(sjPlot))\n",
    "\n",
    "plot_model(canpiel_nb, vline.color=\"red\", show.values = TRUE, value.offset=.3,\n",
    "    sort.est=TRUE, colors = \"Accent\", title=\"RR de desarrollar cáncer de piel\")+\n",
    "    theme_minimal()"
   ]
  },
  {
   "cell_type": "markdown",
   "metadata": {},
   "source": [
    "Hacemos la prueba de hipótesis para los coeficientes de las variables:\n",
    "\n",
    "$H_{0}$: $\\beta_{1}=...=\\beta_{n}= 0$\n",
    "\n",
    "$H_{a}$: No existe $\\beta_{n} = 0$"
   ]
  },
  {
   "cell_type": "code",
   "execution_count": 16,
   "metadata": {},
   "outputs": [
    {
     "data": {
      "text/html": [
       "<table>\n",
       "<caption>A anova: 2 × 3</caption>\n",
       "<thead>\n",
       "\t<tr><th></th><th scope=col>LR Chisq</th><th scope=col>Df</th><th scope=col>Pr(&gt;Chisq)</th></tr>\n",
       "\t<tr><th></th><th scope=col>&lt;dbl&gt;</th><th scope=col>&lt;dbl&gt;</th><th scope=col>&lt;dbl&gt;</th></tr>\n",
       "</thead>\n",
       "<tbody>\n",
       "\t<tr><th scope=row>cd</th><td> 258.7193</td><td>1</td><td>3.263444e-58</td></tr>\n",
       "\t<tr><th scope=row>age</th><td>2561.5750</td><td>7</td><td>0.000000e+00</td></tr>\n",
       "</tbody>\n",
       "</table>\n"
      ],
      "text/latex": [
       "A anova: 2 × 3\n",
       "\\begin{tabular}{r|lll}\n",
       "  & LR Chisq & Df & Pr(>Chisq)\\\\\n",
       "  & <dbl> & <dbl> & <dbl>\\\\\n",
       "\\hline\n",
       "\tcd &  258.7193 & 1 & 3.263444e-58\\\\\n",
       "\tage & 2561.5750 & 7 & 0.000000e+00\\\\\n",
       "\\end{tabular}\n"
      ],
      "text/markdown": [
       "\n",
       "A anova: 2 × 3\n",
       "\n",
       "| <!--/--> | LR Chisq &lt;dbl&gt; | Df &lt;dbl&gt; | Pr(&gt;Chisq) &lt;dbl&gt; |\n",
       "|---|---|---|---|\n",
       "| cd |  258.7193 | 1 | 3.263444e-58 |\n",
       "| age | 2561.5750 | 7 | 0.000000e+00 |\n",
       "\n"
      ],
      "text/plain": [
       "    LR Chisq  Df Pr(>Chisq)  \n",
       "cd   258.7193 1  3.263444e-58\n",
       "age 2561.5750 7  0.000000e+00"
      ]
     },
     "metadata": {},
     "output_type": "display_data"
    }
   ],
   "source": [
    "car::Anova(canpiel_nb, type=3)"
   ]
  },
  {
   "cell_type": "markdown",
   "metadata": {},
   "source": [
    "Por lo tanto no se tiene suficiente evidencia como para rechazar la hipótesis nula y concluímos que las dos variables usadas en el modelo son significativas."
   ]
  },
  {
   "cell_type": "markdown",
   "metadata": {},
   "source": [
    "De los coeficientes (y gráfico de RR) se obtiene que el riesgo de desarrollar cáncer de piel aumenta en Dallas (en comparación de Minesota), así como también aumenta el riesgo al haber un aumento de edad."
   ]
  },
  {
   "cell_type": "markdown",
   "metadata": {},
   "source": [
    "Notas:\n",
    "\n",
    "  - La explicación de la fórmula offset está [aquí](https://rpubs.com/kaz_yos/poisson)\n",
    "  - La personalización de colores de sjPlot::plot_model está [aquí](https://cran.r-project.org/web/packages/sjPlot/vignettes/plot_model_estimates.html)"
   ]
  },
  {
   "cell_type": "markdown",
   "metadata": {},
   "source": [
    "## Haciendo el método stepwise para el modelo:"
   ]
  },
  {
   "cell_type": "code",
   "execution_count": 21,
   "metadata": {},
   "outputs": [
    {
     "name": "stdout",
     "output_type": "stream",
     "text": [
      "Start:  AIC=2886.59\n",
      "cases ~ 1\n",
      "\n",
      "       Df Deviance     AIC\n",
      "+ age   7   266.91  377.16\n",
      "+ cd    1  2569.77 2668.02\n",
      "<none>     2790.34 2886.59\n",
      "\n",
      "Step:  AIC=377.16\n",
      "cases ~ age\n",
      "\n",
      "       Df Deviance     AIC\n",
      "+ cd    1     8.20  120.44\n",
      "<none>      266.91  377.16\n",
      "- age   7  2790.34 2886.59\n",
      "\n",
      "Step:  AIC=120.44\n",
      "cases ~ age + cd\n",
      "\n",
      "         Df Deviance     AIC\n",
      "<none>          8.20  120.44\n",
      "+ cd:age  7     0.00  126.25\n",
      "- cd      1   266.91  377.16\n",
      "- age     7  2569.77 2668.02\n"
     ]
    }
   ],
   "source": [
    "mod_saturado <- glm(formula= cases ~ cd * age, offset=log(psize), data=datos, \n",
    "    family=poisson(link = \"log\"), control = list(maxit = 50))\n",
    "mod_nulo <- glm(formula= cases ~ 1, offset=log(psize), data=datos, family=poisson(link = \"log\"),\n",
    "    control = list(maxit = 50))\n",
    "mod_stepwise <- \n",
    "MASS::stepAIC( \n",
    "    mod_nulo, # Modelo con el que iniciará las iteraciones de los modelos.\n",
    "    trace = T, # Imprimir iteraciones\n",
    "    criterion = c(\"AIC\"), # AIC/BIC *Aunque siempre imprime AIC\n",
    "    direction=\"both\", # \"backward/forward\"\n",
    "    scope=list(upper=mod_saturado, lower=mod_nulo) # Límites de modelos\n",
    ") # Regresa modelo seleccionado"
   ]
  },
  {
   "cell_type": "code",
   "execution_count": 23,
   "metadata": {},
   "outputs": [
    {
     "data": {
      "text/html": [
       "1.15180281279794"
      ],
      "text/latex": [
       "1.15180281279794"
      ],
      "text/markdown": [
       "1.15180281279794"
      ],
      "text/plain": [
       "[1] 1.151803"
      ]
     },
     "metadata": {},
     "output_type": "display_data"
    }
   ],
   "source": [
    "calcula_disp(mod_stepwise)"
   ]
  },
  {
   "cell_type": "code",
   "execution_count": 3,
   "metadata": {},
   "outputs": [
    {
     "data": {
      "text/plain": [
       "\n",
       "Call:\n",
       "glm(formula = cases ~ cd + age + offset(log(psize)), family = poisson(link = \"log\"), \n",
       "    data = datos, control = list(maxit = 50))\n",
       "\n",
       "Deviance Residuals: \n",
       "    Min       1Q   Median       3Q      Max  \n",
       "-1.5043  -0.4816   0.0169   0.3697   1.2504  \n",
       "\n",
       "Coefficients:\n",
       "             Estimate Std. Error z value Pr(>|z|)    \n",
       "(Intercept) -11.65787    0.44871 -25.981  < 2e-16 ***\n",
       "cd2 Dallas    0.80428    0.05221  15.406  < 2e-16 ***\n",
       "age25-34      2.63019    0.46746   5.627 1.84e-08 ***\n",
       "age35-44      3.84735    0.45466   8.462  < 2e-16 ***\n",
       "age45-54      4.59519    0.45103  10.188  < 2e-16 ***\n",
       "age55-64      5.08728    0.45030  11.298  < 2e-16 ***\n",
       "age65-74      5.64541    0.44975  12.552  < 2e-16 ***\n",
       "age75-84      6.05855    0.45032  13.454  < 2e-16 ***\n",
       "age85         6.17819    0.45774  13.497  < 2e-16 ***\n",
       "---\n",
       "Signif. codes:  0 '***' 0.001 '**' 0.01 '*' 0.05 '.' 0.1 ' ' 1\n",
       "\n",
       "(Dispersion parameter for poisson family taken to be 1)\n",
       "\n",
       "    Null deviance: 2790.340  on 15  degrees of freedom\n",
       "Residual deviance:    8.195  on  7  degrees of freedom\n",
       "AIC: 120.44\n",
       "\n",
       "Number of Fisher Scoring iterations: 4\n"
      ]
     },
     "metadata": {},
     "output_type": "display_data"
    }
   ],
   "source": [
    "canpiel_lm <- glm(formula = cases ~ cd + age + offset( log(psize) ),\n",
    "    data=datos, family=poisson(link = \"log\"), control=list(maxit = 50))\n",
    "ummary(canpiel_lm)"
   ]
  },
  {
   "cell_type": "code",
   "execution_count": 4,
   "metadata": {},
   "outputs": [
    {
     "data": {
      "text/html": [
       "<table>\n",
       "<caption>A anova: 3 × 4</caption>\n",
       "<thead>\n",
       "\t<tr><th></th><th scope=col>Df</th><th scope=col>Deviance</th><th scope=col>Resid. Df</th><th scope=col>Resid. Dev</th></tr>\n",
       "\t<tr><th></th><th scope=col>&lt;int&gt;</th><th scope=col>&lt;dbl&gt;</th><th scope=col>&lt;int&gt;</th><th scope=col>&lt;dbl&gt;</th></tr>\n",
       "</thead>\n",
       "<tbody>\n",
       "\t<tr><th scope=row>NULL</th><td>NA</td><td>       NA</td><td>15</td><td>2790.34029</td></tr>\n",
       "\t<tr><th scope=row>cd</th><td> 1</td><td> 220.5703</td><td>14</td><td>2569.77001</td></tr>\n",
       "\t<tr><th scope=row>age</th><td> 7</td><td>2561.5750</td><td> 7</td><td>   8.19505</td></tr>\n",
       "</tbody>\n",
       "</table>\n"
      ],
      "text/latex": [
       "A anova: 3 × 4\n",
       "\\begin{tabular}{r|llll}\n",
       "  & Df & Deviance & Resid. Df & Resid. Dev\\\\\n",
       "  & <int> & <dbl> & <int> & <dbl>\\\\\n",
       "\\hline\n",
       "\tNULL & NA &        NA & 15 & 2790.34029\\\\\n",
       "\tcd &  1 &  220.5703 & 14 & 2569.77001\\\\\n",
       "\tage &  7 & 2561.5750 &  7 &    8.19505\\\\\n",
       "\\end{tabular}\n"
      ],
      "text/markdown": [
       "\n",
       "A anova: 3 × 4\n",
       "\n",
       "| <!--/--> | Df &lt;int&gt; | Deviance &lt;dbl&gt; | Resid. Df &lt;int&gt; | Resid. Dev &lt;dbl&gt; |\n",
       "|---|---|---|---|---|\n",
       "| NULL | NA |        NA | 15 | 2790.34029 |\n",
       "| cd |  1 |  220.5703 | 14 | 2569.77001 |\n",
       "| age |  7 | 2561.5750 |  7 |    8.19505 |\n",
       "\n"
      ],
      "text/plain": [
       "     Df Deviance  Resid. Df Resid. Dev\n",
       "NULL NA        NA 15        2790.34029\n",
       "cd    1  220.5703 14        2569.77001\n",
       "age   7 2561.5750  7           8.19505"
      ]
     },
     "metadata": {},
     "output_type": "display_data"
    }
   ],
   "source": [
    "anova(canpiel_lm)"
   ]
  },
  {
   "cell_type": "markdown",
   "metadata": {},
   "source": [
    "- Poisson es para medidas pequeñas\n",
    "- Significancia es la prueba de Wald\n",
    "- En Poisson es que aumenta el número de casos.\n",
    "- Estimadores marginales - fitted(data_pm)\n",
    "- Estimar la bondad de ajuste = valores observados vs valores estimados\n",
    "- Anova\n",
    "\tTipo 2 - Sólo variables principales\n",
    "\tTipo 3 - Sólo variables principales + interacciones\n",
    "- Devianza es la varianza para la regresión\t(Ji^2 de razón de verosimilitud)\n",
    "- Anova lo del modelo sumado más o menos parecido a la devianza nula (LR = Likelihood ratio)"
   ]
  },
  {
   "cell_type": "markdown",
   "metadata": {},
   "source": [
    "# Actualización después de tener la clase: \n",
    "\n",
    "- La conclusión se pudo haber ampliado un poquito más con respecto a cada Rango de edad y hablar un poquito más respecto a lo que habíamos manejado en el Excel en cuanto a las tasas de incidencia. "
   ]
  }
 ],
 "metadata": {
  "kernelspec": {
   "display_name": "R",
   "language": "R",
   "name": "ir"
  },
  "language_info": {
   "codemirror_mode": "r",
   "file_extension": ".r",
   "mimetype": "text/x-r-source",
   "name": "R",
   "pygments_lexer": "r",
   "version": "3.6.0"
  },
  "latex_envs": {
   "LaTeX_envs_menu_present": true,
   "autoclose": false,
   "autocomplete": false,
   "bibliofile": "biblio.bib",
   "cite_by": "apalike",
   "current_citInitial": 1,
   "eqLabelWithNumbers": true,
   "eqNumInitial": 1,
   "hotkeys": {
    "equation": "Ctrl-E",
    "itemize": "Ctrl-I"
   },
   "labels_anchors": false,
   "latex_user_defs": false,
   "report_style_numbering": false,
   "user_envs_cfg": false
  }
 },
 "nbformat": 4,
 "nbformat_minor": 2
}
