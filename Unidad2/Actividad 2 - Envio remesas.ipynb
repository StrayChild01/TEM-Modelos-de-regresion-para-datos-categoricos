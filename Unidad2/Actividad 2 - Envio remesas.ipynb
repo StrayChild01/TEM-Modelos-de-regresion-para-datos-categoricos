{
 "cells": [
  {
   "cell_type": "markdown",
   "metadata": {},
   "source": [
    "# Actividad 2 - Estudio sobre remesas"
   ]
  },
  {
   "cell_type": "markdown",
   "metadata": {},
   "source": [
    "Leemos los datos."
   ]
  },
  {
   "cell_type": "code",
   "execution_count": 1,
   "metadata": {},
   "outputs": [
    {
     "data": {
      "text/html": [
       "<table>\n",
       "<caption>A tibble: 3 × 6</caption>\n",
       "<thead>\n",
       "\t<tr><th scope=col>genero</th><th scope=col>lug_naci</th><th scope=col>edocivil</th><th scope=col>trabajo</th><th scope=col>envio_</th><th scope=col>envios_cat</th></tr>\n",
       "\t<tr><th scope=col>&lt;chr&gt;</th><th scope=col>&lt;chr&gt;</th><th scope=col>&lt;chr&gt;</th><th scope=col>&lt;chr&gt;</th><th scope=col>&lt;dbl&gt;</th><th scope=col>&lt;chr&gt;</th></tr>\n",
       "</thead>\n",
       "<tbody>\n",
       "\t<tr><td>MASCULINO</td><td>ZONA CENTRO</td><td>SOLTERO</td><td>INDUSTRIA             </td><td>0</td><td>No envia</td></tr>\n",
       "\t<tr><td>MASCULINO</td><td>ZONA NORTE </td><td>SOLTERO</td><td>INDUSTRIA             </td><td>0</td><td>No envia</td></tr>\n",
       "\t<tr><td>MASCULINO</td><td>ZONA NORTE </td><td>SOLTERO</td><td>T. SERV PUB / PERSONAL</td><td>0</td><td>No envia</td></tr>\n",
       "</tbody>\n",
       "</table>\n"
      ],
      "text/latex": [
       "A tibble: 3 × 6\n",
       "\\begin{tabular}{r|llllll}\n",
       " genero & lug\\_naci & edocivil & trabajo & envio\\_ & envios\\_cat\\\\\n",
       " <chr> & <chr> & <chr> & <chr> & <dbl> & <chr>\\\\\n",
       "\\hline\n",
       "\t MASCULINO & ZONA CENTRO & SOLTERO & INDUSTRIA              & 0 & No envia\\\\\n",
       "\t MASCULINO & ZONA NORTE  & SOLTERO & INDUSTRIA              & 0 & No envia\\\\\n",
       "\t MASCULINO & ZONA NORTE  & SOLTERO & T. SERV PUB / PERSONAL & 0 & No envia\\\\\n",
       "\\end{tabular}\n"
      ],
      "text/markdown": [
       "\n",
       "A tibble: 3 × 6\n",
       "\n",
       "| genero &lt;chr&gt; | lug_naci &lt;chr&gt; | edocivil &lt;chr&gt; | trabajo &lt;chr&gt; | envio_ &lt;dbl&gt; | envios_cat &lt;chr&gt; |\n",
       "|---|---|---|---|---|---|\n",
       "| MASCULINO | ZONA CENTRO | SOLTERO | INDUSTRIA              | 0 | No envia |\n",
       "| MASCULINO | ZONA NORTE  | SOLTERO | INDUSTRIA              | 0 | No envia |\n",
       "| MASCULINO | ZONA NORTE  | SOLTERO | T. SERV PUB / PERSONAL | 0 | No envia |\n",
       "\n"
      ],
      "text/plain": [
       "  genero    lug_naci    edocivil trabajo                envio_ envios_cat\n",
       "1 MASCULINO ZONA CENTRO SOLTERO  INDUSTRIA              0      No envia  \n",
       "2 MASCULINO ZONA NORTE  SOLTERO  INDUSTRIA              0      No envia  \n",
       "3 MASCULINO ZONA NORTE  SOLTERO  T. SERV PUB / PERSONAL 0      No envia  "
      ]
     },
     "metadata": {},
     "output_type": "display_data"
    }
   ],
   "source": [
    "library(readxl)\n",
    "if (.Platform$OS.type==\"unix\"){ ruta_excel <- \"datasets/Envios.xlsx\"\n",
    "} else ruta_excel <- \"../datasets/Envios.xlsx\"\n",
    "datos_remesas<-suppressMessages(read_excel(ruta_excel, sheet=\"envios\"))\n",
    "head(datos_remesas, n=3)"
   ]
  },
  {
   "cell_type": "markdown",
   "metadata": {},
   "source": [
    "Codificamos la variable envios_cat como 1 y 0, para calcular la regresión logística."
   ]
  },
  {
   "cell_type": "code",
   "execution_count": 2,
   "metadata": {},
   "outputs": [],
   "source": [
    "suppressPackageStartupMessages(library(dplyr))\n",
    "datos_remesas %>%\n",
    "    mutate(envia_dinero = ifelse(envios_cat==\"Si envia\", 1, 0)) %>%\n",
    "    select(everything(), -envios_cat) -> remesas_catenvia"
   ]
  },
  {
   "cell_type": "markdown",
   "metadata": {},
   "source": [
    "Calculamos la regresión lineal:"
   ]
  },
  {
   "cell_type": "markdown",
   "metadata": {},
   "source": [
    "De la tabla anterior vemos que la variable que más contribuye al modelo es el género."
   ]
  },
  {
   "cell_type": "code",
   "execution_count": 3,
   "metadata": {},
   "outputs": [
    {
     "data": {
      "text/html": [
       "<table>\n",
       "<caption>A matrix: 10 × 4 of type dbl</caption>\n",
       "<thead>\n",
       "\t<tr><th></th><th scope=col>Estimate</th><th scope=col>Std. Error</th><th scope=col>t value</th><th scope=col>Pr(&gt;|t|)</th></tr>\n",
       "</thead>\n",
       "<tbody>\n",
       "\t<tr><th scope=row>(Intercept)</th><td>165.3723772</td><td>51.82650</td><td> 3.19088433</td><td>0.001440812</td></tr>\n",
       "\t<tr><th scope=row>generoMASCULINO</th><td>134.3147504</td><td>43.79587</td><td> 3.06683574</td><td>0.002192930</td></tr>\n",
       "\t<tr><th scope=row>lug_naciZONA NORTE</th><td>-13.6222404</td><td>27.85086</td><td>-0.48911387</td><td>0.624815782</td></tr>\n",
       "\t<tr><th scope=row>lug_naciZONA SURESTE</th><td> 12.8591453</td><td>68.76999</td><td> 0.18698773</td><td>0.851689593</td></tr>\n",
       "\t<tr><th scope=row>lug_naciZONA TRADICIONAL</th><td>-16.6218346</td><td>25.59230</td><td>-0.64948575</td><td>0.516100519</td></tr>\n",
       "\t<tr><th scope=row>edocivilSOLTERO</th><td> -0.7271453</td><td>21.42283</td><td>-0.03394254</td><td>0.972926426</td></tr>\n",
       "\t<tr><th scope=row>trabajoCOMERCIO</th><td>-74.8868244</td><td>56.83902</td><td>-1.31752493</td><td>0.187816637</td></tr>\n",
       "\t<tr><th scope=row>trabajoINDUSTRIA</th><td>-15.0731142</td><td>21.63979</td><td>-0.69654617</td><td>0.486169405</td></tr>\n",
       "\t<tr><th scope=row>trabajoT. SERV PUB / PERSONAL</th><td>-31.0750162</td><td>25.56289</td><td>-1.21563000</td><td>0.224272224</td></tr>\n",
       "\t<tr><th scope=row>trabajoTECNICO ADMVO</th><td> 45.4854231</td><td>56.46143</td><td> 0.80560176</td><td>0.420570185</td></tr>\n",
       "</tbody>\n",
       "</table>\n"
      ],
      "text/latex": [
       "A matrix: 10 × 4 of type dbl\n",
       "\\begin{tabular}{r|llll}\n",
       "  & Estimate & Std. Error & t value & Pr(>\\textbar{}t\\textbar{})\\\\\n",
       "\\hline\n",
       "\t(Intercept) & 165.3723772 & 51.82650 &  3.19088433 & 0.001440812\\\\\n",
       "\tgeneroMASCULINO & 134.3147504 & 43.79587 &  3.06683574 & 0.002192930\\\\\n",
       "\tlug\\_naciZONA NORTE & -13.6222404 & 27.85086 & -0.48911387 & 0.624815782\\\\\n",
       "\tlug\\_naciZONA SURESTE &  12.8591453 & 68.76999 &  0.18698773 & 0.851689593\\\\\n",
       "\tlug\\_naciZONA TRADICIONAL & -16.6218346 & 25.59230 & -0.64948575 & 0.516100519\\\\\n",
       "\tedocivilSOLTERO &  -0.7271453 & 21.42283 & -0.03394254 & 0.972926426\\\\\n",
       "\ttrabajoCOMERCIO & -74.8868244 & 56.83902 & -1.31752493 & 0.187816637\\\\\n",
       "\ttrabajoINDUSTRIA & -15.0731142 & 21.63979 & -0.69654617 & 0.486169405\\\\\n",
       "\ttrabajoT. SERV PUB / PERSONAL & -31.0750162 & 25.56289 & -1.21563000 & 0.224272224\\\\\n",
       "\ttrabajoTECNICO ADMVO &  45.4854231 & 56.46143 &  0.80560176 & 0.420570185\\\\\n",
       "\\end{tabular}\n"
      ],
      "text/markdown": [
       "\n",
       "A matrix: 10 × 4 of type dbl\n",
       "\n",
       "| <!--/--> | Estimate | Std. Error | t value | Pr(&gt;|t|) |\n",
       "|---|---|---|---|---|\n",
       "| (Intercept) | 165.3723772 | 51.82650 |  3.19088433 | 0.001440812 |\n",
       "| generoMASCULINO | 134.3147504 | 43.79587 |  3.06683574 | 0.002192930 |\n",
       "| lug_naciZONA NORTE | -13.6222404 | 27.85086 | -0.48911387 | 0.624815782 |\n",
       "| lug_naciZONA SURESTE |  12.8591453 | 68.76999 |  0.18698773 | 0.851689593 |\n",
       "| lug_naciZONA TRADICIONAL | -16.6218346 | 25.59230 | -0.64948575 | 0.516100519 |\n",
       "| edocivilSOLTERO |  -0.7271453 | 21.42283 | -0.03394254 | 0.972926426 |\n",
       "| trabajoCOMERCIO | -74.8868244 | 56.83902 | -1.31752493 | 0.187816637 |\n",
       "| trabajoINDUSTRIA | -15.0731142 | 21.63979 | -0.69654617 | 0.486169405 |\n",
       "| trabajoT. SERV PUB / PERSONAL | -31.0750162 | 25.56289 | -1.21563000 | 0.224272224 |\n",
       "| trabajoTECNICO ADMVO |  45.4854231 | 56.46143 |  0.80560176 | 0.420570185 |\n",
       "\n"
      ],
      "text/plain": [
       "                              Estimate    Std. Error t value     Pr(>|t|)   \n",
       "(Intercept)                   165.3723772 51.82650    3.19088433 0.001440812\n",
       "generoMASCULINO               134.3147504 43.79587    3.06683574 0.002192930\n",
       "lug_naciZONA NORTE            -13.6222404 27.85086   -0.48911387 0.624815782\n",
       "lug_naciZONA SURESTE           12.8591453 68.76999    0.18698773 0.851689593\n",
       "lug_naciZONA TRADICIONAL      -16.6218346 25.59230   -0.64948575 0.516100519\n",
       "edocivilSOLTERO                -0.7271453 21.42283   -0.03394254 0.972926426\n",
       "trabajoCOMERCIO               -74.8868244 56.83902   -1.31752493 0.187816637\n",
       "trabajoINDUSTRIA              -15.0731142 21.63979   -0.69654617 0.486169405\n",
       "trabajoT. SERV PUB / PERSONAL -31.0750162 25.56289   -1.21563000 0.224272224\n",
       "trabajoTECNICO ADMVO           45.4854231 56.46143    0.80560176 0.420570185"
      ]
     },
     "metadata": {},
     "output_type": "display_data"
    }
   ],
   "source": [
    "mi_lm <- lm(\n",
    "    data=remesas_catenvia,    \n",
    "    formula=envio_~genero+lug_naci+edocivil+trabajo    \n",
    ")\n",
    "\n",
    "summary(mi_lm)$coeff"
   ]
  },
  {
   "cell_type": "markdown",
   "metadata": {},
   "source": [
    "Revisamos $R^2$ para ver qué tan preciso es el modelo:"
   ]
  },
  {
   "cell_type": "code",
   "execution_count": 4,
   "metadata": {},
   "outputs": [
    {
     "data": {
      "text/html": [
       "0.00796290443859665"
      ],
      "text/latex": [
       "0.00796290443859665"
      ],
      "text/markdown": [
       "0.00796290443859665"
      ],
      "text/plain": [
       "[1] 0.007962904"
      ]
     },
     "metadata": {},
     "output_type": "display_data"
    }
   ],
   "source": [
    "summary(mi_lm)$r.squared"
   ]
  },
  {
   "cell_type": "markdown",
   "metadata": {},
   "source": [
    "Vemos que el modelo no explica correctamente los datos. Mejor lo mandamos a dormir a su camita."
   ]
  },
  {
   "cell_type": "markdown",
   "metadata": {},
   "source": [
    "## Regresión logística múltiple"
   ]
  },
  {
   "cell_type": "markdown",
   "metadata": {},
   "source": [
    "Como el modelo de regresión lineal no explica la variable que se quiere medir, probamos con la regresión logística."
   ]
  },
  {
   "cell_type": "markdown",
   "metadata": {},
   "source": [
    "En este caso, como la regresión logística en R toma los primeros valores en la tabla como las categorías de referencia, convertimos las variables a factores y establecemos las categorías de referencia:"
   ]
  },
  {
   "cell_type": "code",
   "execution_count": 5,
   "metadata": {},
   "outputs": [],
   "source": [
    "remesas_catenvia$genero <- relevel(as.factor(remesas_catenvia$genero), ref = \"FEMENINO\")\n",
    "remesas_catenvia$edocivil <- relevel(as.factor(remesas_catenvia$edocivil), ref = \"CASADO O UNIDO\")\n",
    "remesas_catenvia$trabajo <- relevel(as.factor(remesas_catenvia$trabajo), ref = \"COMERCIO\")\n",
    "remesas_catenvia$lug_naci <- relevel(as.factor(remesas_catenvia$lug_naci), ref = \"ZONA NORTE\")"
   ]
  },
  {
   "cell_type": "markdown",
   "metadata": {},
   "source": [
    "Calculamos la regresión logística:"
   ]
  },
  {
   "cell_type": "code",
   "execution_count": 6,
   "metadata": {},
   "outputs": [],
   "source": [
    "mi_glm <- glm(\n",
    "    data=remesas_catenvia,\n",
    "    formula=envia_dinero~genero+lug_naci+edocivil+trabajo,\n",
    "    # Por qué no se toma en cuenta el envío de $?\n",
    "    family = binomial(link = \"logit\"),\n",
    "    # Para aumentar # de iteraciones si el modelo no converge\n",
    "    control = list(maxit = 50)\n",
    ")"
   ]
  },
  {
   "cell_type": "markdown",
   "metadata": {},
   "source": [
    "Graficamos la razón de momios para ver cómo se comporta el modelo de regresión logística calculado:"
   ]
  },
  {
   "cell_type": "code",
   "execution_count": 7,
   "metadata": {},
   "outputs": [
    {
     "data": {
      "image/png": "[encoded data removed]",
      "text/plain": [
       "plot without title"
      ]
     },
     "metadata": {},
     "output_type": "display_data"
    }
   ],
   "source": [
    "suppressPackageStartupMessages(library(sjPlot))\n",
    "options(repr.plot.width=6, repr.plot.height=4)\n",
    "plot_model(mi_glm, title=\"Envío de remesas\")"
   ]
  },
  {
   "cell_type": "markdown",
   "metadata": {},
   "source": [
    "Revisamos los valores que nos regresa el modelo:"
   ]
  },
  {
   "cell_type": "code",
   "execution_count": 8,
   "metadata": {},
   "outputs": [
    {
     "data": {
      "text/html": [
       "<table>\n",
       "<caption>A matrix: 10 × 5 of type dbl</caption>\n",
       "<thead>\n",
       "\t<tr><th></th><th scope=col>Estimate</th><th scope=col>Std. Error</th><th scope=col>z value</th><th scope=col>Pr(&gt;|z|)</th><th scope=col>odd_ratio</th></tr>\n",
       "</thead>\n",
       "<tbody>\n",
       "\t<tr><th scope=row>(Intercept)</th><td>-0.87070681</td><td>0.3597201</td><td>-2.4205119</td><td>0.01549867</td><td>0.4186555</td></tr>\n",
       "\t<tr><th scope=row>generoMASCULINO</th><td> 0.50475915</td><td>0.2321881</td><td> 2.1739232</td><td>0.02971091</td><td>1.6565865</td></tr>\n",
       "\t<tr><th scope=row>lug_naciZONA CENTRO</th><td> 0.11861675</td><td>0.1443890</td><td> 0.8215082</td><td>0.41135683</td><td>1.1259383</td></tr>\n",
       "\t<tr><th scope=row>lug_naciZONA SURESTE</th><td> 0.82612933</td><td>0.3747947</td><td> 2.2042183</td><td>0.02750899</td><td>2.2844592</td></tr>\n",
       "\t<tr><th scope=row>lug_naciZONA TRADICIONAL</th><td>-0.02997358</td><td>0.1066931</td><td>-0.2809327</td><td>0.77876204</td><td>0.9704712</td></tr>\n",
       "\t<tr><th scope=row>edocivilSOLTERO</th><td>-0.05778392</td><td>0.1110888</td><td>-0.5201599</td><td>0.60295214</td><td>0.9438539</td></tr>\n",
       "\t<tr><th scope=row>trabajoAGROPECUARIO</th><td> 0.71095194</td><td>0.2993416</td><td> 2.3750522</td><td>0.01754647</td><td>2.0359284</td></tr>\n",
       "\t<tr><th scope=row>trabajoINDUSTRIA</th><td> 0.42149177</td><td>0.2929295</td><td> 1.4388849</td><td>0.15018314</td><td>1.5242337</td></tr>\n",
       "\t<tr><th scope=row>trabajoT. SERV PUB / PERSONAL</th><td> 0.39198584</td><td>0.3003226</td><td> 1.3052158</td><td>0.19181938</td><td>1.4799168</td></tr>\n",
       "\t<tr><th scope=row>trabajoTECNICO ADMVO</th><td> 0.23937193</td><td>0.3982126</td><td> 0.6011159</td><td>0.54776282</td><td>1.2704510</td></tr>\n",
       "</tbody>\n",
       "</table>\n"
      ],
      "text/latex": [
       "A matrix: 10 × 5 of type dbl\n",
       "\\begin{tabular}{r|lllll}\n",
       "  & Estimate & Std. Error & z value & Pr(>\\textbar{}z\\textbar{}) & odd\\_ratio\\\\\n",
       "\\hline\n",
       "\t(Intercept) & -0.87070681 & 0.3597201 & -2.4205119 & 0.01549867 & 0.4186555\\\\\n",
       "\tgeneroMASCULINO &  0.50475915 & 0.2321881 &  2.1739232 & 0.02971091 & 1.6565865\\\\\n",
       "\tlug\\_naciZONA CENTRO &  0.11861675 & 0.1443890 &  0.8215082 & 0.41135683 & 1.1259383\\\\\n",
       "\tlug\\_naciZONA SURESTE &  0.82612933 & 0.3747947 &  2.2042183 & 0.02750899 & 2.2844592\\\\\n",
       "\tlug\\_naciZONA TRADICIONAL & -0.02997358 & 0.1066931 & -0.2809327 & 0.77876204 & 0.9704712\\\\\n",
       "\tedocivilSOLTERO & -0.05778392 & 0.1110888 & -0.5201599 & 0.60295214 & 0.9438539\\\\\n",
       "\ttrabajoAGROPECUARIO &  0.71095194 & 0.2993416 &  2.3750522 & 0.01754647 & 2.0359284\\\\\n",
       "\ttrabajoINDUSTRIA &  0.42149177 & 0.2929295 &  1.4388849 & 0.15018314 & 1.5242337\\\\\n",
       "\ttrabajoT. SERV PUB / PERSONAL &  0.39198584 & 0.3003226 &  1.3052158 & 0.19181938 & 1.4799168\\\\\n",
       "\ttrabajoTECNICO ADMVO &  0.23937193 & 0.3982126 &  0.6011159 & 0.54776282 & 1.2704510\\\\\n",
       "\\end{tabular}\n"
      ],
      "text/markdown": [
       "\n",
       "A matrix: 10 × 5 of type dbl\n",
       "\n",
       "| <!--/--> | Estimate | Std. Error | z value | Pr(&gt;|z|) | odd_ratio |\n",
       "|---|---|---|---|---|---|\n",
       "| (Intercept) | -0.87070681 | 0.3597201 | -2.4205119 | 0.01549867 | 0.4186555 |\n",
       "| generoMASCULINO |  0.50475915 | 0.2321881 |  2.1739232 | 0.02971091 | 1.6565865 |\n",
       "| lug_naciZONA CENTRO |  0.11861675 | 0.1443890 |  0.8215082 | 0.41135683 | 1.1259383 |\n",
       "| lug_naciZONA SURESTE |  0.82612933 | 0.3747947 |  2.2042183 | 0.02750899 | 2.2844592 |\n",
       "| lug_naciZONA TRADICIONAL | -0.02997358 | 0.1066931 | -0.2809327 | 0.77876204 | 0.9704712 |\n",
       "| edocivilSOLTERO | -0.05778392 | 0.1110888 | -0.5201599 | 0.60295214 | 0.9438539 |\n",
       "| trabajoAGROPECUARIO |  0.71095194 | 0.2993416 |  2.3750522 | 0.01754647 | 2.0359284 |\n",
       "| trabajoINDUSTRIA |  0.42149177 | 0.2929295 |  1.4388849 | 0.15018314 | 1.5242337 |\n",
       "| trabajoT. SERV PUB / PERSONAL |  0.39198584 | 0.3003226 |  1.3052158 | 0.19181938 | 1.4799168 |\n",
       "| trabajoTECNICO ADMVO |  0.23937193 | 0.3982126 |  0.6011159 | 0.54776282 | 1.2704510 |\n",
       "\n"
      ],
      "text/plain": [
       "                              Estimate    Std. Error z value    Pr(>|z|)  \n",
       "(Intercept)                   -0.87070681 0.3597201  -2.4205119 0.01549867\n",
       "generoMASCULINO                0.50475915 0.2321881   2.1739232 0.02971091\n",
       "lug_naciZONA CENTRO            0.11861675 0.1443890   0.8215082 0.41135683\n",
       "lug_naciZONA SURESTE           0.82612933 0.3747947   2.2042183 0.02750899\n",
       "lug_naciZONA TRADICIONAL      -0.02997358 0.1066931  -0.2809327 0.77876204\n",
       "edocivilSOLTERO               -0.05778392 0.1110888  -0.5201599 0.60295214\n",
       "trabajoAGROPECUARIO            0.71095194 0.2993416   2.3750522 0.01754647\n",
       "trabajoINDUSTRIA               0.42149177 0.2929295   1.4388849 0.15018314\n",
       "trabajoT. SERV PUB / PERSONAL  0.39198584 0.3003226   1.3052158 0.19181938\n",
       "trabajoTECNICO ADMVO           0.23937193 0.3982126   0.6011159 0.54776282\n",
       "                              odd_ratio\n",
       "(Intercept)                   0.4186555\n",
       "generoMASCULINO               1.6565865\n",
       "lug_naciZONA CENTRO           1.1259383\n",
       "lug_naciZONA SURESTE          2.2844592\n",
       "lug_naciZONA TRADICIONAL      0.9704712\n",
       "edocivilSOLTERO               0.9438539\n",
       "trabajoAGROPECUARIO           2.0359284\n",
       "trabajoINDUSTRIA              1.5242337\n",
       "trabajoT. SERV PUB / PERSONAL 1.4799168\n",
       "trabajoTECNICO ADMVO          1.2704510"
      ]
     },
     "metadata": {},
     "output_type": "display_data"
    }
   ],
   "source": [
    "coeficientes <- summary(mi_glm)$coeff\n",
    "# los datos que nos regresa el modelo está expresado en _logitos_, lo convertimos a momios\n",
    "cbind(coeficientes, odd_ratio = exp(coeficientes[,1]))"
   ]
  },
  {
   "cell_type": "code",
   "execution_count": 9,
   "metadata": {},
   "outputs": [
    {
     "data": {
      "text/html": [
       "<table>\n",
       "<caption>A tibble: 10 × 7</caption>\n",
       "<thead>\n",
       "\t<tr><th scope=col>term</th><th scope=col>estimate</th><th scope=col>std.error</th><th scope=col>statistic</th><th scope=col>p.value</th><th scope=col>conf.low</th><th scope=col>conf.high</th></tr>\n",
       "\t<tr><th scope=col>&lt;chr&gt;</th><th scope=col>&lt;dbl&gt;</th><th scope=col>&lt;dbl&gt;</th><th scope=col>&lt;dbl&gt;</th><th scope=col>&lt;dbl&gt;</th><th scope=col>&lt;dbl&gt;</th><th scope=col>&lt;dbl&gt;</th></tr>\n",
       "</thead>\n",
       "<tbody>\n",
       "\t<tr><td>(Intercept)                  </td><td>0.4186555</td><td>0.3597201</td><td>-2.4205119</td><td>0.01549867</td><td>0.2041727</td><td>0.840199</td></tr>\n",
       "\t<tr><td>generoMASCULINO              </td><td>1.6565865</td><td>0.2321881</td><td> 2.1739232</td><td>0.02971091</td><td>1.0562985</td><td>2.632293</td></tr>\n",
       "\t<tr><td>lug_naciZONA CENTRO          </td><td>1.1259383</td><td>0.1443890</td><td> 0.8215082</td><td>0.41135683</td><td>0.8486610</td><td>1.495126</td></tr>\n",
       "\t<tr><td>lug_naciZONA SURESTE         </td><td>2.2844592</td><td>0.3747947</td><td> 2.2042183</td><td>0.02750899</td><td>1.1224646</td><td>4.948907</td></tr>\n",
       "\t<tr><td>lug_naciZONA TRADICIONAL     </td><td>0.9704712</td><td>0.1066931</td><td>-0.2809327</td><td>0.77876204</td><td>0.7871680</td><td>1.196062</td></tr>\n",
       "\t<tr><td>edocivilSOLTERO              </td><td>0.9438539</td><td>0.1110888</td><td>-0.5201599</td><td>0.60295214</td><td>0.7591781</td><td>1.173687</td></tr>\n",
       "\t<tr><td>trabajoAGROPECUARIO          </td><td>2.0359284</td><td>0.2993416</td><td> 2.3750522</td><td>0.01754647</td><td>1.1389389</td><td>3.705161</td></tr>\n",
       "\t<tr><td>trabajoINDUSTRIA             </td><td>1.5242337</td><td>0.2929295</td><td> 1.4388849</td><td>0.15018314</td><td>0.8636108</td><td>2.740751</td></tr>\n",
       "\t<tr><td>trabajoT. SERV PUB / PERSONAL</td><td>1.4799168</td><td>0.3003226</td><td> 1.3052158</td><td>0.19181938</td><td>0.8263734</td><td>2.698443</td></tr>\n",
       "\t<tr><td>trabajoTECNICO ADMVO         </td><td>1.2704510</td><td>0.3982126</td><td> 0.6011159</td><td>0.54776282</td><td>0.5823527</td><td>2.788235</td></tr>\n",
       "</tbody>\n",
       "</table>\n"
      ],
      "text/latex": [
       "A tibble: 10 × 7\n",
       "\\begin{tabular}{r|lllllll}\n",
       " term & estimate & std.error & statistic & p.value & conf.low & conf.high\\\\\n",
       " <chr> & <dbl> & <dbl> & <dbl> & <dbl> & <dbl> & <dbl>\\\\\n",
       "\\hline\n",
       "\t (Intercept)                   & 0.4186555 & 0.3597201 & -2.4205119 & 0.01549867 & 0.2041727 & 0.840199\\\\\n",
       "\t generoMASCULINO               & 1.6565865 & 0.2321881 &  2.1739232 & 0.02971091 & 1.0562985 & 2.632293\\\\\n",
       "\t lug\\_naciZONA CENTRO           & 1.1259383 & 0.1443890 &  0.8215082 & 0.41135683 & 0.8486610 & 1.495126\\\\\n",
       "\t lug\\_naciZONA SURESTE          & 2.2844592 & 0.3747947 &  2.2042183 & 0.02750899 & 1.1224646 & 4.948907\\\\\n",
       "\t lug\\_naciZONA TRADICIONAL      & 0.9704712 & 0.1066931 & -0.2809327 & 0.77876204 & 0.7871680 & 1.196062\\\\\n",
       "\t edocivilSOLTERO               & 0.9438539 & 0.1110888 & -0.5201599 & 0.60295214 & 0.7591781 & 1.173687\\\\\n",
       "\t trabajoAGROPECUARIO           & 2.0359284 & 0.2993416 &  2.3750522 & 0.01754647 & 1.1389389 & 3.705161\\\\\n",
       "\t trabajoINDUSTRIA              & 1.5242337 & 0.2929295 &  1.4388849 & 0.15018314 & 0.8636108 & 2.740751\\\\\n",
       "\t trabajoT. SERV PUB / PERSONAL & 1.4799168 & 0.3003226 &  1.3052158 & 0.19181938 & 0.8263734 & 2.698443\\\\\n",
       "\t trabajoTECNICO ADMVO          & 1.2704510 & 0.3982126 &  0.6011159 & 0.54776282 & 0.5823527 & 2.788235\\\\\n",
       "\\end{tabular}\n"
      ],
      "text/markdown": [
       "\n",
       "A tibble: 10 × 7\n",
       "\n",
       "| term &lt;chr&gt; | estimate &lt;dbl&gt; | std.error &lt;dbl&gt; | statistic &lt;dbl&gt; | p.value &lt;dbl&gt; | conf.low &lt;dbl&gt; | conf.high &lt;dbl&gt; |\n",
       "|---|---|---|---|---|---|---|\n",
       "| (Intercept)                   | 0.4186555 | 0.3597201 | -2.4205119 | 0.01549867 | 0.2041727 | 0.840199 |\n",
       "| generoMASCULINO               | 1.6565865 | 0.2321881 |  2.1739232 | 0.02971091 | 1.0562985 | 2.632293 |\n",
       "| lug_naciZONA CENTRO           | 1.1259383 | 0.1443890 |  0.8215082 | 0.41135683 | 0.8486610 | 1.495126 |\n",
       "| lug_naciZONA SURESTE          | 2.2844592 | 0.3747947 |  2.2042183 | 0.02750899 | 1.1224646 | 4.948907 |\n",
       "| lug_naciZONA TRADICIONAL      | 0.9704712 | 0.1066931 | -0.2809327 | 0.77876204 | 0.7871680 | 1.196062 |\n",
       "| edocivilSOLTERO               | 0.9438539 | 0.1110888 | -0.5201599 | 0.60295214 | 0.7591781 | 1.173687 |\n",
       "| trabajoAGROPECUARIO           | 2.0359284 | 0.2993416 |  2.3750522 | 0.01754647 | 1.1389389 | 3.705161 |\n",
       "| trabajoINDUSTRIA              | 1.5242337 | 0.2929295 |  1.4388849 | 0.15018314 | 0.8636108 | 2.740751 |\n",
       "| trabajoT. SERV PUB / PERSONAL | 1.4799168 | 0.3003226 |  1.3052158 | 0.19181938 | 0.8263734 | 2.698443 |\n",
       "| trabajoTECNICO ADMVO          | 1.2704510 | 0.3982126 |  0.6011159 | 0.54776282 | 0.5823527 | 2.788235 |\n",
       "\n"
      ],
      "text/plain": [
       "   term                          estimate  std.error statistic  p.value   \n",
       "1  (Intercept)                   0.4186555 0.3597201 -2.4205119 0.01549867\n",
       "2  generoMASCULINO               1.6565865 0.2321881  2.1739232 0.02971091\n",
       "3  lug_naciZONA CENTRO           1.1259383 0.1443890  0.8215082 0.41135683\n",
       "4  lug_naciZONA SURESTE          2.2844592 0.3747947  2.2042183 0.02750899\n",
       "5  lug_naciZONA TRADICIONAL      0.9704712 0.1066931 -0.2809327 0.77876204\n",
       "6  edocivilSOLTERO               0.9438539 0.1110888 -0.5201599 0.60295214\n",
       "7  trabajoAGROPECUARIO           2.0359284 0.2993416  2.3750522 0.01754647\n",
       "8  trabajoINDUSTRIA              1.5242337 0.2929295  1.4388849 0.15018314\n",
       "9  trabajoT. SERV PUB / PERSONAL 1.4799168 0.3003226  1.3052158 0.19181938\n",
       "10 trabajoTECNICO ADMVO          1.2704510 0.3982126  0.6011159 0.54776282\n",
       "   conf.low  conf.high\n",
       "1  0.2041727 0.840199 \n",
       "2  1.0562985 2.632293 \n",
       "3  0.8486610 1.495126 \n",
       "4  1.1224646 4.948907 \n",
       "5  0.7871680 1.196062 \n",
       "6  0.7591781 1.173687 \n",
       "7  1.1389389 3.705161 \n",
       "8  0.8636108 2.740751 \n",
       "9  0.8263734 2.698443 \n",
       "10 0.5823527 2.788235 "
      ]
     },
     "metadata": {},
     "output_type": "display_data"
    }
   ],
   "source": [
    "# Otra opción que aprendí en la siguiente tarea es\n",
    "library(broom)\n",
    "tidy(mi_glm, conf.int = TRUE, conf.level = 0.95, exponentiate = TRUE)"
   ]
  },
  {
   "cell_type": "markdown",
   "metadata": {},
   "source": [
    "De la tabla anterior vemos que las variables que más significativas para el modelo son género masculino, lugar de nacimiento en zona sureste y el trabajo agropecuario."
   ]
  },
  {
   "cell_type": "markdown",
   "metadata": {},
   "source": [
    "Los odds ratio también pueden ser llamados coeficientes exponenciados."
   ]
  },
  {
   "cell_type": "markdown",
   "metadata": {},
   "source": [
    "**Para interpretar los momios se usa la siguiente regla:**\n",
    "\n",
    "  • Si b = 0, el momio y la probabilidad son lo mismo a todos los niveles de x $\\left( e^b=1 \\right)$  \n",
    "  • Si b > 0 , el momio y la probabilidad se incrementan al incrementar x $(e^b>1)$  \n",
    "  • Si b < 0 , el momio y la probabilidad disminuyen al aumentar x $(e^b<1)$  \n",
    " "
   ]
  },
  {
   "cell_type": "markdown",
   "metadata": {},
   "source": [
    "De la columna _odds_ratio_ vemos que la razón de posibilidades para que una persona envíe una remesa, se incrementan en las siguientes condiciones:\n",
    "\n",
    "  - Si el género es masculino. En este caso, si el género es masculino(1.6565865), aumenta en un 65% la posibilidad de que envíe dinero en comparación del _género femenino_.\n",
    "  - O si la persona nació en la zona centro o sureste a comparación de la zona norte.\n",
    "  - O si tiene algún trabajo que no sea comercio.\n",
    "\n",
    "Y disminuyen en las siguientes condiciones:\n",
    "\n",
    "  - Si el lugar de nacimiento es _zona tradicional_\n",
    "  - Si la persona es _soltera_. En este caso, si la persona es soltera (0.9438539) disminuye 6% la posibilidad de que envíe dinero en comparación con las personas de _edo civil casados o unidos_.\n",
    "\n",
    "\\*Nótese que estas condiciones se basan en el principio **Ceteris Paribus** que asume que sólo una categoría cambia mientras todas las demás categorías permanecen con un valor constante.\n",
    "\n",
    "Para la combinación entre las categorías, se necesita hacer otra prueba."
   ]
  },
  {
   "cell_type": "markdown",
   "metadata": {},
   "source": [
    "Por ejemplo, para predecir la probabilidad de que un hombre migrante nacido en la zona centro, soltero y trabajando en la rama agropecuaria envíe remesa:"
   ]
  },
  {
   "cell_type": "code",
   "execution_count": 10,
   "metadata": {},
   "outputs": [
    {
     "data": {
      "text/html": [
       "<strong>1:</strong> 0.645676731099656"
      ],
      "text/latex": [
       "\\textbf{1:} 0.645676731099656"
      ],
      "text/markdown": [
       "**1:** 0.645676731099656"
      ],
      "text/plain": [
       "        1 \n",
       "0.6456767 "
      ]
     },
     "metadata": {},
     "output_type": "display_data"
    }
   ],
   "source": [
    "# Para predecir la probabilidad con algunas interacciones de los datos\n",
    "plogis(predict(mi_glm, newdata = data.frame(genero=\"MASCULINO\", lug_naci=\"ZONA CENTRO\", edocivil=\"SOLTERO\", trabajo = \"AGROPECUARIO\"), type = \"response\"))"
   ]
  },
  {
   "cell_type": "markdown",
   "metadata": {},
   "source": [
    "Hacemos las pruebas de hipótesis para las variables:"
   ]
  },
  {
   "cell_type": "markdown",
   "metadata": {},
   "source": [
    "$H_{0}$: $\\beta_{1}=...=\\beta_{n}= 0$\n",
    "\n",
    "$H_{a}$: No existe $\\beta_{n} = 0$"
   ]
  },
  {
   "cell_type": "code",
   "execution_count": 11,
   "metadata": {},
   "outputs": [
    {
     "data": {
      "text/html": [
       "<table>\n",
       "<caption>A anova: 5 × 5</caption>\n",
       "<thead>\n",
       "\t<tr><th></th><th scope=col>Df</th><th scope=col>Deviance</th><th scope=col>Resid. Df</th><th scope=col>Resid. Dev</th><th scope=col>Pr(&gt;Chi)</th></tr>\n",
       "\t<tr><th></th><th scope=col>&lt;int&gt;</th><th scope=col>&lt;dbl&gt;</th><th scope=col>&lt;int&gt;</th><th scope=col>&lt;dbl&gt;</th><th scope=col>&lt;dbl&gt;</th></tr>\n",
       "</thead>\n",
       "<tbody>\n",
       "\t<tr><th scope=row>NULL</th><td>NA</td><td>       NA</td><td>1970</td><td>2727.996</td><td>         NA</td></tr>\n",
       "\t<tr><th scope=row>genero</th><td> 1</td><td> 7.521982</td><td>1969</td><td>2720.474</td><td>0.006095059</td></tr>\n",
       "\t<tr><th scope=row>lug_naci</th><td> 3</td><td> 6.455577</td><td>1966</td><td>2714.019</td><td>0.091430989</td></tr>\n",
       "\t<tr><th scope=row>edocivil</th><td> 1</td><td> 0.410413</td><td>1965</td><td>2713.608</td><td>0.521759957</td></tr>\n",
       "\t<tr><th scope=row>trabajo</th><td> 4</td><td>11.738789</td><td>1961</td><td>2701.870</td><td>0.019403176</td></tr>\n",
       "</tbody>\n",
       "</table>\n"
      ],
      "text/latex": [
       "A anova: 5 × 5\n",
       "\\begin{tabular}{r|lllll}\n",
       "  & Df & Deviance & Resid. Df & Resid. Dev & Pr(>Chi)\\\\\n",
       "  & <int> & <dbl> & <int> & <dbl> & <dbl>\\\\\n",
       "\\hline\n",
       "\tNULL & NA &        NA & 1970 & 2727.996 &          NA\\\\\n",
       "\tgenero &  1 &  7.521982 & 1969 & 2720.474 & 0.006095059\\\\\n",
       "\tlug\\_naci &  3 &  6.455577 & 1966 & 2714.019 & 0.091430989\\\\\n",
       "\tedocivil &  1 &  0.410413 & 1965 & 2713.608 & 0.521759957\\\\\n",
       "\ttrabajo &  4 & 11.738789 & 1961 & 2701.870 & 0.019403176\\\\\n",
       "\\end{tabular}\n"
      ],
      "text/markdown": [
       "\n",
       "A anova: 5 × 5\n",
       "\n",
       "| <!--/--> | Df &lt;int&gt; | Deviance &lt;dbl&gt; | Resid. Df &lt;int&gt; | Resid. Dev &lt;dbl&gt; | Pr(&gt;Chi) &lt;dbl&gt; |\n",
       "|---|---|---|---|---|---|\n",
       "| NULL | NA |        NA | 1970 | 2727.996 |          NA |\n",
       "| genero |  1 |  7.521982 | 1969 | 2720.474 | 0.006095059 |\n",
       "| lug_naci |  3 |  6.455577 | 1966 | 2714.019 | 0.091430989 |\n",
       "| edocivil |  1 |  0.410413 | 1965 | 2713.608 | 0.521759957 |\n",
       "| trabajo |  4 | 11.738789 | 1961 | 2701.870 | 0.019403176 |\n",
       "\n"
      ],
      "text/plain": [
       "         Df Deviance  Resid. Df Resid. Dev Pr(>Chi)   \n",
       "NULL     NA        NA 1970      2727.996            NA\n",
       "genero    1  7.521982 1969      2720.474   0.006095059\n",
       "lug_naci  3  6.455577 1966      2714.019   0.091430989\n",
       "edocivil  1  0.410413 1965      2713.608   0.521759957\n",
       "trabajo   4 11.738789 1961      2701.870   0.019403176"
      ]
     },
     "metadata": {},
     "output_type": "display_data"
    }
   ],
   "source": [
    "anova(object=mi_glm, test=\"Chisq\")\n",
    "#Anova(mi_glm, type=\"II\" test=\"LR\")"
   ]
  },
  {
   "cell_type": "markdown",
   "metadata": {},
   "source": [
    "Al revisar los valores _p_, vemos que en el caso del _estado civil_ tenemos un valor bastante alto y por lo tanto, no se tiene evidencia estadística para rechazar la hipótesis nula. Esto significa que no todas las variables tienen una aportación significativa al modelo."
   ]
  },
  {
   "cell_type": "markdown",
   "metadata": {},
   "source": [
    "Adicionalmente calculamos los intervalos de convianza para la razón de momios:"
   ]
  },
  {
   "cell_type": "code",
   "execution_count": 12,
   "metadata": {},
   "outputs": [
    {
     "data": {
      "text/html": [
       "<table>\n",
       "<caption>A matrix: 10 × 2 of type dbl</caption>\n",
       "<thead>\n",
       "\t<tr><th></th><th scope=col>2.5 %</th><th scope=col>97.5 %</th></tr>\n",
       "</thead>\n",
       "<tbody>\n",
       "\t<tr><th scope=row>(Intercept)</th><td>0.2041727</td><td>0.840199</td></tr>\n",
       "\t<tr><th scope=row>generoMASCULINO</th><td>1.0562985</td><td>2.632293</td></tr>\n",
       "\t<tr><th scope=row>lug_naciZONA CENTRO</th><td>0.8486610</td><td>1.495126</td></tr>\n",
       "\t<tr><th scope=row>lug_naciZONA SURESTE</th><td>1.1224646</td><td>4.948907</td></tr>\n",
       "\t<tr><th scope=row>lug_naciZONA TRADICIONAL</th><td>0.7871680</td><td>1.196062</td></tr>\n",
       "\t<tr><th scope=row>edocivilSOLTERO</th><td>0.7591781</td><td>1.173687</td></tr>\n",
       "\t<tr><th scope=row>trabajoAGROPECUARIO</th><td>1.1389389</td><td>3.705161</td></tr>\n",
       "\t<tr><th scope=row>trabajoINDUSTRIA</th><td>0.8636108</td><td>2.740751</td></tr>\n",
       "\t<tr><th scope=row>trabajoT. SERV PUB / PERSONAL</th><td>0.8263734</td><td>2.698443</td></tr>\n",
       "\t<tr><th scope=row>trabajoTECNICO ADMVO</th><td>0.5823527</td><td>2.788235</td></tr>\n",
       "</tbody>\n",
       "</table>\n"
      ],
      "text/latex": [
       "A matrix: 10 × 2 of type dbl\n",
       "\\begin{tabular}{r|ll}\n",
       "  & 2.5 \\% & 97.5 \\%\\\\\n",
       "\\hline\n",
       "\t(Intercept) & 0.2041727 & 0.840199\\\\\n",
       "\tgeneroMASCULINO & 1.0562985 & 2.632293\\\\\n",
       "\tlug\\_naciZONA CENTRO & 0.8486610 & 1.495126\\\\\n",
       "\tlug\\_naciZONA SURESTE & 1.1224646 & 4.948907\\\\\n",
       "\tlug\\_naciZONA TRADICIONAL & 0.7871680 & 1.196062\\\\\n",
       "\tedocivilSOLTERO & 0.7591781 & 1.173687\\\\\n",
       "\ttrabajoAGROPECUARIO & 1.1389389 & 3.705161\\\\\n",
       "\ttrabajoINDUSTRIA & 0.8636108 & 2.740751\\\\\n",
       "\ttrabajoT. SERV PUB / PERSONAL & 0.8263734 & 2.698443\\\\\n",
       "\ttrabajoTECNICO ADMVO & 0.5823527 & 2.788235\\\\\n",
       "\\end{tabular}\n"
      ],
      "text/markdown": [
       "\n",
       "A matrix: 10 × 2 of type dbl\n",
       "\n",
       "| <!--/--> | 2.5 % | 97.5 % |\n",
       "|---|---|---|\n",
       "| (Intercept) | 0.2041727 | 0.840199 |\n",
       "| generoMASCULINO | 1.0562985 | 2.632293 |\n",
       "| lug_naciZONA CENTRO | 0.8486610 | 1.495126 |\n",
       "| lug_naciZONA SURESTE | 1.1224646 | 4.948907 |\n",
       "| lug_naciZONA TRADICIONAL | 0.7871680 | 1.196062 |\n",
       "| edocivilSOLTERO | 0.7591781 | 1.173687 |\n",
       "| trabajoAGROPECUARIO | 1.1389389 | 3.705161 |\n",
       "| trabajoINDUSTRIA | 0.8636108 | 2.740751 |\n",
       "| trabajoT. SERV PUB / PERSONAL | 0.8263734 | 2.698443 |\n",
       "| trabajoTECNICO ADMVO | 0.5823527 | 2.788235 |\n",
       "\n"
      ],
      "text/plain": [
       "                              2.5 %     97.5 %  \n",
       "(Intercept)                   0.2041727 0.840199\n",
       "generoMASCULINO               1.0562985 2.632293\n",
       "lug_naciZONA CENTRO           0.8486610 1.495126\n",
       "lug_naciZONA SURESTE          1.1224646 4.948907\n",
       "lug_naciZONA TRADICIONAL      0.7871680 1.196062\n",
       "edocivilSOLTERO               0.7591781 1.173687\n",
       "trabajoAGROPECUARIO           1.1389389 3.705161\n",
       "trabajoINDUSTRIA              0.8636108 2.740751\n",
       "trabajoT. SERV PUB / PERSONAL 0.8263734 2.698443\n",
       "trabajoTECNICO ADMVO          0.5823527 2.788235"
      ]
     },
     "metadata": {},
     "output_type": "display_data"
    }
   ],
   "source": [
    "suppressPackageStartupMessages(library(MASS))\n",
    "suppressMessages(exp(confint(mi_glm)))"
   ]
  },
  {
   "cell_type": "markdown",
   "metadata": {},
   "source": [
    "Los valores anteriores se pueden interpretar como:"
   ]
  },
  {
   "cell_type": "markdown",
   "metadata": {},
   "source": [
    "  • Si el intervalo esta sobre 1, se concluye que existe asociación positiva  \n",
    "  • Si el intervalo está bajo 1, se concluye que existe asociación negativa  \n",
    "  • Si el intervalo contiene al 1, no se puede concluir que existe asociación"
   ]
  },
  {
   "cell_type": "markdown",
   "metadata": {},
   "source": [
    "De lo anterior se puede concluir que:\n",
    "\n",
    "  - Se puede afirmar que hay asociación positiva en las siguientes variables:  \n",
    "    - Trabajo agropecuario, lugar nacimiento zona sureste, género masculino  \n",
    "  - No se puede afirmar que hay asociación en las siguientes variables:  \n",
    "    - Trabajos técnico administrativo, serv. público/ personal, industria, estado civil soltero, lugar nacimiento zona tradicional, zona centro.   "
   ]
  },
  {
   "cell_type": "markdown",
   "metadata": {},
   "source": [
    "<hr>\n",
    "\n",
    "# Actualización después de la clase:"
   ]
  },
  {
   "cell_type": "markdown",
   "metadata": {},
   "source": [
    "Como en los ejercicios anteriores, podemos ver cómo se comportan los datos haciendo tablas de contingencia:"
   ]
  },
  {
   "cell_type": "code",
   "execution_count": 13,
   "metadata": {},
   "outputs": [
    {
     "data": {
      "text/html": [
       "<table>\n",
       "<caption>A data.frame: 6 × 5</caption>\n",
       "<thead>\n",
       "\t<tr><th></th><th scope=col>ZONA NORTE</th><th scope=col>ZONA CENTRO</th><th scope=col>ZONA SURESTE</th><th scope=col>ZONA TRADICIONAL</th><th scope=col>Sum</th></tr>\n",
       "\t<tr><th></th><th scope=col>&lt;dbl&gt;</th><th scope=col>&lt;dbl&gt;</th><th scope=col>&lt;dbl&gt;</th><th scope=col>&lt;dbl&gt;</th><th scope=col>&lt;dbl&gt;</th></tr>\n",
       "</thead>\n",
       "<tbody>\n",
       "\t<tr><th scope=row>COMERCIO</th><td> 22</td><td>  8</td><td> 2</td><td>  20</td><td>  52</td></tr>\n",
       "\t<tr><th scope=row>AGROPECUARIO</th><td> 80</td><td> 97</td><td> 9</td><td> 364</td><td> 550</td></tr>\n",
       "\t<tr><th scope=row>INDUSTRIA</th><td>327</td><td>121</td><td>15</td><td> 411</td><td> 874</td></tr>\n",
       "\t<tr><th scope=row>T. SERV PUB / PERSONAL</th><td>159</td><td> 65</td><td> 8</td><td> 210</td><td> 442</td></tr>\n",
       "\t<tr><th scope=row>TECNICO ADMVO</th><td> 16</td><td>  9</td><td> 2</td><td>  26</td><td>  53</td></tr>\n",
       "\t<tr><th scope=row>Sum</th><td>604</td><td>300</td><td>36</td><td>1031</td><td>1971</td></tr>\n",
       "</tbody>\n",
       "</table>\n"
      ],
      "text/latex": [
       "A data.frame: 6 × 5\n",
       "\\begin{tabular}{r|lllll}\n",
       "  & ZONA NORTE & ZONA CENTRO & ZONA SURESTE & ZONA TRADICIONAL & Sum\\\\\n",
       "  & <dbl> & <dbl> & <dbl> & <dbl> & <dbl>\\\\\n",
       "\\hline\n",
       "\tCOMERCIO &  22 &   8 &  2 &   20 &   52\\\\\n",
       "\tAGROPECUARIO &  80 &  97 &  9 &  364 &  550\\\\\n",
       "\tINDUSTRIA & 327 & 121 & 15 &  411 &  874\\\\\n",
       "\tT. SERV PUB / PERSONAL & 159 &  65 &  8 &  210 &  442\\\\\n",
       "\tTECNICO ADMVO &  16 &   9 &  2 &   26 &   53\\\\\n",
       "\tSum & 604 & 300 & 36 & 1031 & 1971\\\\\n",
       "\\end{tabular}\n"
      ],
      "text/markdown": [
       "\n",
       "A data.frame: 6 × 5\n",
       "\n",
       "| <!--/--> | ZONA NORTE &lt;dbl&gt; | ZONA CENTRO &lt;dbl&gt; | ZONA SURESTE &lt;dbl&gt; | ZONA TRADICIONAL &lt;dbl&gt; | Sum &lt;dbl&gt; |\n",
       "|---|---|---|---|---|---|\n",
       "| COMERCIO |  22 |   8 |  2 |   20 |   52 |\n",
       "| AGROPECUARIO |  80 |  97 |  9 |  364 |  550 |\n",
       "| INDUSTRIA | 327 | 121 | 15 |  411 |  874 |\n",
       "| T. SERV PUB / PERSONAL | 159 |  65 |  8 |  210 |  442 |\n",
       "| TECNICO ADMVO |  16 |   9 |  2 |   26 |   53 |\n",
       "| Sum | 604 | 300 | 36 | 1031 | 1971 |\n",
       "\n"
      ],
      "text/plain": [
       "                       ZONA NORTE ZONA CENTRO ZONA SURESTE ZONA TRADICIONAL\n",
       "COMERCIO                22          8          2             20            \n",
       "AGROPECUARIO            80         97          9            364            \n",
       "INDUSTRIA              327        121         15            411            \n",
       "T. SERV PUB / PERSONAL 159         65          8            210            \n",
       "TECNICO ADMVO           16          9          2             26            \n",
       "Sum                    604        300         36           1031            \n",
       "                       Sum \n",
       "COMERCIO                 52\n",
       "AGROPECUARIO            550\n",
       "INDUSTRIA               874\n",
       "T. SERV PUB / PERSONAL  442\n",
       "TECNICO ADMVO            53\n",
       "Sum                    1971"
      ]
     },
     "metadata": {},
     "output_type": "display_data"
    }
   ],
   "source": [
    "as.data.frame.matrix( # Esto es para poder convertir la salida de xtabs a formato bonito\n",
    "    addmargins(xtabs(formula=~trabajo+lug_naci, data=remesas_catenvia))\n",
    ")"
   ]
  },
  {
   "cell_type": "markdown",
   "metadata": {},
   "source": [
    "Para probar el modelo, necesitamos revisar la interacción entre las variables. Para eso primero se hace la regresión lineal con el _modelo saturado_. Esto no siempre se tiene que hacer:\n",
    "\n",
    "\\*Nota: El error \"not defined because of singularities\" ocurre cuando hay alta correlación entre las variables independientes."
   ]
  },
  {
   "cell_type": "code",
   "execution_count": 14,
   "metadata": {},
   "outputs": [],
   "source": [
    "mi_glm_saturado <- suppressWarnings(glm(\n",
    "    data=remesas_catenvia,\n",
    "    # En la fórmula \"*\" significa la interacción entre las variables\n",
    "    formula=envia_dinero~genero*lug_naci*edocivil*trabajo,\n",
    "    family = binomial(link = \"logit\"),\n",
    "    # Para aumentar # de iteraciones si el modelo no converge\n",
    "    control = list(maxit = 1000)\n",
    "))"
   ]
  },
  {
   "cell_type": "code",
   "execution_count": 15,
   "metadata": {},
   "outputs": [
    {
     "name": "stdout",
     "output_type": "stream",
     "text": [
      "\n",
      "====================================================================================================================\n",
      "                                                                                            Dependent variable:     \n",
      "                                                                                       -----------------------------\n",
      "                                                                                               envia_dinero         \n",
      "--------------------------------------------------------------------------------------------------------------------\n",
      "generoMASCULINO                                                                        -1,905,369,039,748,361.000***\n",
      "                                                                                             (50,972,841.000)       \n",
      "                                                                                                                    \n",
      "lug_naciZONA CENTRO                                                                    -1,546,496,308,759,183.000***\n",
      "                                                                                             (54,649,056.000)       \n",
      "                                                                                                                    \n",
      "lug_naciZONA SURESTE                                                                    -189,274,080,498,764.000*** \n",
      "                                                                                             (141,115,820.000)      \n",
      "                                                                                                                    \n",
      "lug_naciZONA TRADICIONAL                                                               -6,755,399,267,080,211.000***\n",
      "                                                                                             (82,191,237.000)       \n",
      "                                                                                                                    \n",
      "edocivilSOLTERO                                                                        -4,503,578,400,237,643.000***\n",
      "                                                                                             (67,108,864.000)       \n",
      "                                                                                                                    \n",
      "trabajoAGROPECUARIO                                                                    7,678,274,156,451,163.000*** \n",
      "                                                                                             (86,693,634.000)       \n",
      "                                                                                                                    \n",
      "trabajoINDUSTRIA                                                                       -2,251,796,557,145,351.000***\n",
      "                                                                                             (53,806,795.000)       \n",
      "                                                                                                                    \n",
      "trabajoT. SERV PUB / PERSONAL                                                          -4,385,084,122,585,325.000***\n",
      "                                                                                             (49,888,189.000)       \n",
      "                                                                                                                    \n",
      "trabajoTECNICO ADMVO                                                                   -5,254,199,354,467,782.000***\n",
      "                                                                                             (61,261,731.000)       \n",
      "                                                                                                                    \n",
      "generoMASCULINO:lug_naciZONA CENTRO                                                    -3,303,528,925,841,882.000***\n",
      "                                                                                             (43,468,249.000)       \n",
      "                                                                                                                    \n",
      "generoMASCULINO:lug_naciZONA SURESTE                                                   1,951,557,937,837,866.000*** \n",
      "                                                                                             (104,684,092.000)      \n",
      "                                                                                                                    \n",
      "generoMASCULINO:lug_naciZONA TRADICIONAL                                               6,408,968,824,767,026.000*** \n",
      "                                                                                             (86,159,827.000)       \n",
      "                                                                                                                    \n",
      "generoMASCULINO:edocivilSOLTERO                                                        5,057,867,950,572,499.000*** \n",
      "                                                                                             (75,833,702.000)       \n",
      "                                                                                                                    \n",
      "lug_naciZONA CENTRO:edocivilSOLTERO                                                    7,331,313,281,998,954.000*** \n",
      "                                                                                             (106,517,945.000)      \n",
      "                                                                                                                    \n",
      "lug_naciZONA SURESTE:edocivilSOLTERO                                                   -3,783,707,610,293,621.000***\n",
      "                                                                                             (118,056,241.000)      \n",
      "                                                                                                                    \n",
      "lug_naciZONA TRADICIONAL:edocivilSOLTERO                                               2,812,686,057,915,422.000*** \n",
      "                                                                                             (128,704,121.000)      \n",
      "                                                                                                                    \n",
      "generoMASCULINO:trabajoAGROPECUARIO                                                    -6,316,443,157,006,370.000***\n",
      "                                                                                             (84,212,275.000)       \n",
      "                                                                                                                    \n",
      "generoMASCULINO:trabajoINDUSTRIA                                                       3,192,111,596,031,613.000*** \n",
      "                                                                                             (57,096,269.000)       \n",
      "                                                                                                                    \n",
      "generoMASCULINO:trabajoT. SERV PUB / PERSONAL                                          4,908,666,943,770,566.000*** \n",
      "                                                                                             (53,725,593.000)       \n",
      "                                                                                                                    \n",
      "generoMASCULINO:trabajoTECNICO ADMVO                                                   4,457,408,651,145,579.000*** \n",
      "                                                                                             (67,452,134.000)       \n",
      "                                                                                                                    \n",
      "lug_naciZONA CENTRO:trabajoAGROPECUARIO                                                5,483,638,762,663,568.000*** \n",
      "                                                                                             (35,138,682.000)       \n",
      "                                                                                                                    \n",
      "lug_naciZONA SURESTE:trabajoAGROPECUARIO                                               -1,218,749,399,722,047.000***\n",
      "                                                                                             (100,789,204.000)      \n",
      "                                                                                                                    \n",
      "lug_naciZONA TRADICIONAL:trabajoAGROPECUARIO                                           -3,174,674,469,023,799.000***\n",
      "                                                                                             (27,575,112.000)       \n",
      "                                                                                                                    \n",
      "lug_naciZONA CENTRO:trabajoINDUSTRIA                                                   1,546,488,982,926,672.000*** \n",
      "                                                                                             (90,185,866.000)       \n",
      "                                                                                                                    \n",
      "lug_naciZONA SURESTE:trabajoINDUSTRIA                                                  -1,820,772,241,605,597.000***\n",
      "                                                                                             (96,864,419.000)       \n",
      "                                                                                                                    \n",
      "lug_naciZONA TRADICIONAL:trabajoINDUSTRIA                                              6,755,399,511,281,285.000*** \n",
      "                                                                                             (90,273,865.000)       \n",
      "                                                                                                                    \n",
      "lug_naciZONA CENTRO:trabajoT. SERV PUB / PERSONAL                                      3,679,774,683,416,858.000*** \n",
      "                                                                                             (35,331,119.000)       \n",
      "                                                                                                                    \n",
      "lug_naciZONA SURESTE:trabajoT. SERV PUB / PERSONAL                                     1,871,301,969,729,926.000*** \n",
      "                                                                                             (88,192,053.000)       \n",
      "                                                                                                                    \n",
      "lug_naciZONA TRADICIONAL:trabajoT. SERV PUB / PERSONAL                                 8,888,683,884,537,685.000*** \n",
      "                                                                                             (87,994,494.000)       \n",
      "                                                                                                                    \n",
      "lug_naciZONA CENTRO:trabajoTECNICO ADMVO                                               7,230,499,383,302,776.000*** \n",
      "                                                                                             (46,805,577.000)       \n",
      "                                                                                                                    \n",
      "lug_naciZONA SURESTE:trabajoTECNICO ADMVO                                              3,191,674,307,526,592.000*** \n",
      "                                                                                             (117,935,894.000)      \n",
      "                                                                                                                    \n",
      "lug_naciZONA TRADICIONAL:trabajoTECNICO ADMVO                                          5,254,199,265,356,854.000*** \n",
      "                                                                                             (102,510,483.000)      \n",
      "                                                                                                                    \n",
      "edocivilSOLTERO:trabajoAGROPECUARIO                                                    -2,671,968,875,580,730.000***\n",
      "                                                                                             (39,108,925.000)       \n",
      "                                                                                                                    \n",
      "edocivilSOLTERO:trabajoINDUSTRIA                                                       6,305,016,864,511,947.000*** \n",
      "                                                                                             (77,766,901.000)       \n",
      "                                                                                                                    \n",
      "edocivilSOLTERO:trabajoT. SERV PUB / PERSONAL                                          5,736,142,784,846,125.000*** \n",
      "                                                                                             (70,999,093.000)       \n",
      "                                                                                                                    \n",
      "edocivilSOLTERO:trabajoTECNICO ADMVO                                                   7,505,977,899,268,589.000*** \n",
      "                                                                                             (102,510,483.000)      \n",
      "                                                                                                                    \n",
      "generoMASCULINO:lug_naciZONA CENTRO:edocivilSOLTERO                                    -3,382,007,500,043,819.000***\n",
      "                                                                                             (84,240,858.000)       \n",
      "                                                                                                                    \n",
      "generoMASCULINO:lug_naciZONA SURESTE:edocivilSOLTERO                                   3,372,502,209,775,182.000*** \n",
      "                                                                                             (131,854,152.000)      \n",
      "                                                                                                                    \n",
      "generoMASCULINO:lug_naciZONA TRADICIONAL:edocivilSOLTERO                               -5,168,417,805,620,780.000***\n",
      "                                                                                             (118,723,185.000)      \n",
      "                                                                                                                    \n",
      "generoMASCULINO:lug_naciZONA CENTRO:trabajoAGROPECUARIO                                                             \n",
      "                                                                                                                    \n",
      "                                                                                                                    \n",
      "generoMASCULINO:lug_naciZONA SURESTE:trabajoAGROPECUARIO                                                            \n",
      "                                                                                                                    \n",
      "                                                                                                                    \n",
      "generoMASCULINO:lug_naciZONA TRADICIONAL:trabajoAGROPECUARIO                                                        \n",
      "                                                                                                                    \n",
      "                                                                                                                    \n",
      "generoMASCULINO:lug_naciZONA CENTRO:trabajoINDUSTRIA                                   3,047,740,926,605,901.000*** \n",
      "                                                                                             (84,315,491.000)       \n",
      "                                                                                                                    \n",
      "generoMASCULINO:lug_naciZONA SURESTE:trabajoINDUSTRIA                                                               \n",
      "                                                                                                                    \n",
      "                                                                                                                    \n",
      "generoMASCULINO:lug_naciZONA TRADICIONAL:trabajoINDUSTRIA                              -6,526,120,370,987,209.000***\n",
      "                                                                                             (94,070,786.000)       \n",
      "                                                                                                                    \n",
      "generoMASCULINO:lug_naciZONA CENTRO:trabajoT. SERV PUB / PERSONAL                                                   \n",
      "                                                                                                                    \n",
      "                                                                                                                    \n",
      "generoMASCULINO:lug_naciZONA SURESTE:trabajoT. SERV PUB / PERSONAL                                                  \n",
      "                                                                                                                    \n",
      "                                                                                                                    \n",
      "generoMASCULINO:lug_naciZONA TRADICIONAL:trabajoT. SERV PUB / PERSONAL                 -7,242,850,110,319,430.000***\n",
      "                                                                                             (92,140,033.000)       \n",
      "                                                                                                                    \n",
      "generoMASCULINO:lug_naciZONA CENTRO:trabajoTECNICO ADMVO                                                            \n",
      "                                                                                                                    \n",
      "                                                                                                                    \n",
      "generoMASCULINO:lug_naciZONA SURESTE:trabajoTECNICO ADMVO                                                           \n",
      "                                                                                                                    \n",
      "                                                                                                                    \n",
      "generoMASCULINO:lug_naciZONA TRADICIONAL:trabajoTECNICO ADMVO                          -5,744,151,610,995,098.000***\n",
      "                                                                                             (109,309,474.000)      \n",
      "                                                                                                                    \n",
      "generoMASCULINO:edocivilSOLTERO:trabajoAGROPECUARIO                                                                 \n",
      "                                                                                                                    \n",
      "                                                                                                                    \n",
      "generoMASCULINO:edocivilSOLTERO:trabajoINDUSTRIA                                       -8,118,199,488,971,216.000***\n",
      "                                                                                             (85,892,728.000)       \n",
      "                                                                                                                    \n",
      "generoMASCULINO:edocivilSOLTERO:trabajoT. SERV PUB / PERSONAL                          -5,879,229,324,263,107.000***\n",
      "                                                                                             (80,379,836.000)       \n",
      "                                                                                                                    \n",
      "generoMASCULINO:edocivilSOLTERO:trabajoTECNICO ADMVO                                   -5,358,107,685,304,057.000***\n",
      "                                                                                             (120,240,216.000)      \n",
      "                                                                                                                    \n",
      "lug_naciZONA CENTRO:edocivilSOLTERO:trabajoAGROPECUARIO                                -5,811,171,832,107,051.000***\n",
      "                                                                                             (69,257,959.000)       \n",
      "                                                                                                                    \n",
      "lug_naciZONA SURESTE:edocivilSOLTERO:trabajoAGROPECUARIO                               4,780,688,982,406,743.000*** \n",
      "                                                                                             (90,063,161.000)       \n",
      "                                                                                                                    \n",
      "lug_naciZONA TRADICIONAL:edocivilSOLTERO:trabajoAGROPECUARIO                           4,784,958,229,218,496.000*** \n",
      "                                                                                             (53,384,789.000)       \n",
      "                                                                                                                    \n",
      "lug_naciZONA CENTRO:edocivilSOLTERO:trabajoINDUSTRIA                                   -7,631,548,204,535,987.000***\n",
      "                                                                                             (137,458,952.000)      \n",
      "                                                                                                                    \n",
      "lug_naciZONA SURESTE:edocivilSOLTERO:trabajoINDUSTRIA                                   441,840,090,099,602.000***  \n",
      "                                                                                             (86,141,935.000)       \n",
      "                                                                                                                    \n",
      "lug_naciZONA TRADICIONAL:edocivilSOLTERO:trabajoINDUSTRIA                              -9,117,726,348,067,764.000***\n",
      "                                                                                             (152,849,736.000)      \n",
      "                                                                                                                    \n",
      "lug_naciZONA CENTRO:edocivilSOLTERO:trabajoT. SERV PUB / PERSONAL                      -4,060,275,394,255,285.000***\n",
      "                                                                                             (69,310,905.000)       \n",
      "                                                                                                                    \n",
      "lug_naciZONA SURESTE:edocivilSOLTERO:trabajoT. SERV PUB / PERSONAL                                                  \n",
      "                                                                                                                    \n",
      "                                                                                                                    \n",
      "lug_naciZONA TRADICIONAL:edocivilSOLTERO:trabajoT. SERV PUB / PERSONAL                 -4,045,251,675,593,164.000***\n",
      "                                                                                             (139,118,015.000)      \n",
      "                                                                                                                    \n",
      "lug_naciZONA CENTRO:edocivilSOLTERO:trabajoTECNICO ADMVO                               -8,581,576,121,406,559.000***\n",
      "                                                                                             (99,231,454.000)       \n",
      "                                                                                                                    \n",
      "lug_naciZONA SURESTE:edocivilSOLTERO:trabajoTECNICO ADMVO                                                           \n",
      "                                                                                                                    \n",
      "                                                                                                                    \n",
      "lug_naciZONA TRADICIONAL:edocivilSOLTERO:trabajoTECNICO ADMVO                           940,312,459,544,372.000***  \n",
      "                                                                                             (77,822,565.000)       \n",
      "                                                                                                                    \n",
      "generoMASCULINO:lug_naciZONA CENTRO:edocivilSOLTERO:trabajoAGROPECUARIO                                             \n",
      "                                                                                                                    \n",
      "                                                                                                                    \n",
      "generoMASCULINO:lug_naciZONA SURESTE:edocivilSOLTERO:trabajoAGROPECUARIO                                            \n",
      "                                                                                                                    \n",
      "                                                                                                                    \n",
      "generoMASCULINO:lug_naciZONA TRADICIONAL:edocivilSOLTERO:trabajoAGROPECUARIO                                        \n",
      "                                                                                                                    \n",
      "                                                                                                                    \n",
      "generoMASCULINO:lug_naciZONA CENTRO:edocivilSOLTERO:trabajoINDUSTRIA                   3,644,698,292,076,266.000*** \n",
      "                                                                                             (122,126,374.000)      \n",
      "                                                                                                                    \n",
      "generoMASCULINO:lug_naciZONA SURESTE:edocivilSOLTERO:trabajoINDUSTRIA                                               \n",
      "                                                                                                                    \n",
      "                                                                                                                    \n",
      "generoMASCULINO:lug_naciZONA TRADICIONAL:edocivilSOLTERO:trabajoINDUSTRIA              13,912,461,166,294,398.000***\n",
      "                                                                                             (145,103,128.000)      \n",
      "                                                                                                                    \n",
      "generoMASCULINO:lug_naciZONA CENTRO:edocivilSOLTERO:trabajoT. SERV PUB / PERSONAL                                   \n",
      "                                                                                                                    \n",
      "                                                                                                                    \n",
      "generoMASCULINO:lug_naciZONA SURESTE:edocivilSOLTERO:trabajoT. SERV PUB / PERSONAL                                  \n",
      "                                                                                                                    \n",
      "                                                                                                                    \n",
      "generoMASCULINO:lug_naciZONA TRADICIONAL:edocivilSOLTERO:trabajoT. SERV PUB / PERSONAL 5,402,704,355,821,584.000*** \n",
      "                                                                                             (131,172,947.000)      \n",
      "                                                                                                                    \n",
      "generoMASCULINO:lug_naciZONA CENTRO:edocivilSOLTERO:trabajoTECNICO ADMVO                                            \n",
      "                                                                                                                    \n",
      "                                                                                                                    \n",
      "generoMASCULINO:lug_naciZONA SURESTE:edocivilSOLTERO:trabajoTECNICO ADMVO                                           \n",
      "                                                                                                                    \n",
      "                                                                                                                    \n",
      "generoMASCULINO:lug_naciZONA TRADICIONAL:edocivilSOLTERO:trabajoTECNICO ADMVO                                       \n",
      "                                                                                                                    \n",
      "                                                                                                                    \n",
      "Constant                                                                               2,251,799,780,836,550.000*** \n",
      "                                                                                             (47,453,133.000)       \n",
      "                                                                                                                    \n",
      "--------------------------------------------------------------------------------------------------------------------\n",
      "Observations                                                                                       1,971            \n",
      "Log Likelihood                                                                                  -34,493.780         \n",
      "Akaike Inf. Crit.                                                                               69,107.550          \n",
      "====================================================================================================================\n",
      "Note:                                                                                    *p<0.1; **p<0.05; ***p<0.01\n"
     ]
    }
   ],
   "source": [
    "suppressPackageStartupMessages(library(stargazer))\n",
    "stargazer(mi_glm_saturado, type=\"text\")\n",
    "#library(broom)\n",
    "#tidy(mi_glm_saturado)"
   ]
  },
  {
   "cell_type": "code",
   "execution_count": 16,
   "metadata": {},
   "outputs": [
    {
     "data": {
      "image/png": "[encoded data removed]",
      "text/plain": [
       "plot without title"
      ]
     },
     "metadata": {},
     "output_type": "display_data"
    }
   ],
   "source": [
    "library(ggplot2)\n",
    "datos_predichos <- data.frame(\n",
    "    prob_env_remesa=mi_glm_saturado$fitted.values,\n",
    "    lugar_nacimiento=datos_remesas$lug_naci)\n",
    " \n",
    "ggplot(data=datos_predichos, aes(x=lugar_nacimiento, y=prob_env_remesa)) +\n",
    "    geom_point(aes(color=lugar_nacimiento), size=5) +\n",
    "    xlab(\"lugar nacimiento\") +\n",
    "    ylab(\"prob envío remesa\") +\n",
    "    ggtitle(\"Probabilidad de envío de remesa por lugar nac.\")"
   ]
  },
  {
   "cell_type": "code",
   "execution_count": 17,
   "metadata": {},
   "outputs": [
    {
     "data": {
      "image/png": "[encoded data removed]",
      "text/plain": [
       "plot without title"
      ]
     },
     "metadata": {},
     "output_type": "display_data"
    }
   ],
   "source": [
    "library(ggplot2)\n",
    "datos_predichos <- data.frame(\n",
    "    prob_env_remesa=mi_glm$fitted.values,\n",
    "    lugar_nacimiento=datos_remesas$lug_naci)\n",
    " \n",
    "ggplot(data=datos_predichos, aes(x=lugar_nacimiento, y=prob_env_remesa)) +\n",
    "    geom_point(aes(color=lugar_nacimiento), size=5) +\n",
    "    xlab(\"lugar nacimiento\") +\n",
    "    ylab(\"prob envío remesa\") +\n",
    "    ggtitle(\"Probabilidad de envío de remesa por lugar nac.\")"
   ]
  },
  {
   "cell_type": "markdown",
   "metadata": {},
   "source": [
    "Como vimos en la salida del comando stargazer, los valores del modelo saturado son muy grandes y hay problemas al extraerlos 😭"
   ]
  },
  {
   "cell_type": "code",
   "execution_count": 18,
   "metadata": {},
   "outputs": [
    {
     "data": {
      "text/html": [
       "<table>\n",
       "<caption>A data.frame: 5 × 6</caption>\n",
       "<thead>\n",
       "\t<tr><th scope=col>interaccion</th><th scope=col>Estimate</th><th scope=col>Std. Error</th><th scope=col>z value</th><th scope=col>Pr(&gt;|z|)</th><th scope=col>ind_significancia</th></tr>\n",
       "\t<tr><th scope=col>&lt;fct&gt;</th><th scope=col>&lt;dbl&gt;</th><th scope=col>&lt;dbl&gt;</th><th scope=col>&lt;dbl&gt;</th><th scope=col>&lt;dbl&gt;</th><th scope=col>&lt;chr&gt;</th></tr>\n",
       "</thead>\n",
       "<tbody>\n",
       "\t<tr><td>(Intercept)             </td><td> 2.251800e+15</td><td> 47453133</td><td> 47453132</td><td>0</td><td>***</td></tr>\n",
       "\t<tr><td>generoMASCULINO         </td><td>-1.905369e+15</td><td> 50972841</td><td>-37380083</td><td>0</td><td>***</td></tr>\n",
       "\t<tr><td>lug_naciZONA CENTRO     </td><td>-1.546496e+15</td><td> 54649056</td><td>-28298683</td><td>0</td><td>***</td></tr>\n",
       "\t<tr><td>lug_naciZONA SURESTE    </td><td>-1.892741e+14</td><td>141115820</td><td> -1341268</td><td>0</td><td>***</td></tr>\n",
       "\t<tr><td>lug_naciZONA TRADICIONAL</td><td>-6.755399e+15</td><td> 82191237</td><td>-82191235</td><td>0</td><td>***</td></tr>\n",
       "</tbody>\n",
       "</table>\n"
      ],
      "text/latex": [
       "A data.frame: 5 × 6\n",
       "\\begin{tabular}{r|llllll}\n",
       " interaccion & Estimate & Std. Error & z value & Pr(>\\textbar{}z\\textbar{}) & ind\\_significancia\\\\\n",
       " <fct> & <dbl> & <dbl> & <dbl> & <dbl> & <chr>\\\\\n",
       "\\hline\n",
       "\t (Intercept)              &  2.251800e+15 &  47453133 &  47453132 & 0 & ***\\\\\n",
       "\t generoMASCULINO          & -1.905369e+15 &  50972841 & -37380083 & 0 & ***\\\\\n",
       "\t lug\\_naciZONA CENTRO      & -1.546496e+15 &  54649056 & -28298683 & 0 & ***\\\\\n",
       "\t lug\\_naciZONA SURESTE     & -1.892741e+14 & 141115820 &  -1341268 & 0 & ***\\\\\n",
       "\t lug\\_naciZONA TRADICIONAL & -6.755399e+15 &  82191237 & -82191235 & 0 & ***\\\\\n",
       "\\end{tabular}\n"
      ],
      "text/markdown": [
       "\n",
       "A data.frame: 5 × 6\n",
       "\n",
       "| interaccion &lt;fct&gt; | Estimate &lt;dbl&gt; | Std. Error &lt;dbl&gt; | z value &lt;dbl&gt; | Pr(&gt;|z|) &lt;dbl&gt; | ind_significancia &lt;chr&gt; |\n",
       "|---|---|---|---|---|---|\n",
       "| (Intercept)              |  2.251800e+15 |  47453133 |  47453132 | 0 | *** |\n",
       "| generoMASCULINO          | -1.905369e+15 |  50972841 | -37380083 | 0 | *** |\n",
       "| lug_naciZONA CENTRO      | -1.546496e+15 |  54649056 | -28298683 | 0 | *** |\n",
       "| lug_naciZONA SURESTE     | -1.892741e+14 | 141115820 |  -1341268 | 0 | *** |\n",
       "| lug_naciZONA TRADICIONAL | -6.755399e+15 |  82191237 | -82191235 | 0 | *** |\n",
       "\n"
      ],
      "text/plain": [
       "  interaccion              Estimate      Std. Error z value   Pr(>|z|)\n",
       "1 (Intercept)               2.251800e+15  47453133   47453132 0       \n",
       "2 generoMASCULINO          -1.905369e+15  50972841  -37380083 0       \n",
       "3 lug_naciZONA CENTRO      -1.546496e+15  54649056  -28298683 0       \n",
       "4 lug_naciZONA SURESTE     -1.892741e+14 141115820   -1341268 0       \n",
       "5 lug_naciZONA TRADICIONAL -6.755399e+15  82191237  -82191235 0       \n",
       "  ind_significancia\n",
       "1 ***              \n",
       "2 ***              \n",
       "3 ***              \n",
       "4 ***              \n",
       "5 ***              "
      ]
     },
     "metadata": {},
     "output_type": "display_data"
    }
   ],
   "source": [
    "coef_modelo <- coef(summary(mi_glm_saturado))\n",
    "\n",
    "df_summary <- cbind(interaccion = rownames(coef_modelo), as.data.frame.matrix(coef_modelo))\n",
    "df_summary %>%\n",
    "    mutate(ind_significancia =\n",
    "        case_when(`Pr(>|z|)` <= 0.1 & `Pr(>|z|)` > 0.05 ~ '.',\n",
    "                  `Pr(>|z|)` <= 0.05 & `Pr(>|z|)` > 0.01 ~ '*',\n",
    "                  `Pr(>|z|)` <= 0.01 & `Pr(>|z|)` > 0.001 ~ '**',\n",
    "                  `Pr(>|z|)` <= 0.001 & `Pr(>|z|)` >=0 ~ '***',\n",
    "                  is.na(`Pr(>|z|)`) ~ '',\n",
    "                  TRUE ~ ''\n",
    "        )\n",
    "    ) %>% head(n=5)"
   ]
  },
  {
   "cell_type": "markdown",
   "metadata": {},
   "source": [
    "Con el código generado por R commander"
   ]
  },
  {
   "cell_type": "code",
   "execution_count": 19,
   "metadata": {},
   "outputs": [
    {
     "data": {
      "image/png": "[encoded data removed]",
      "text/plain": [
       "Plot with title \"Plot of Means\""
      ]
     },
     "metadata": {},
     "output_type": "display_data"
    }
   ],
   "source": [
    "suppressPackageStartupMessages(library(Rcmdr))\n",
    "with(remesas_catenvia[remesas_catenvia$genero==\"MASCULINO\",], plotMeans(envia_dinero, lug_naci, error.bars=\"conf.int\", level=0.95, connect=TRUE, legend.pos=\"bottom\"))"
   ]
  },
  {
   "cell_type": "code",
   "execution_count": 20,
   "metadata": {},
   "outputs": [
    {
     "data": {
      "text/html": [
       "<table>\n",
       "<caption>A anova: 15 × 3</caption>\n",
       "<thead>\n",
       "\t<tr><th></th><th scope=col>LR Chisq</th><th scope=col>Df</th><th scope=col>Pr(&gt;Chisq)</th></tr>\n",
       "\t<tr><th></th><th scope=col>&lt;dbl&gt;</th><th scope=col>&lt;dbl&gt;</th><th scope=col>&lt;dbl&gt;</th></tr>\n",
       "</thead>\n",
       "<tbody>\n",
       "\t<tr><th scope=row>genero</th><td>     5.695566</td><td> 1</td><td> 1.700783e-02</td></tr>\n",
       "\t<tr><th scope=row>lug_naci</th><td>     6.463259</td><td> 3</td><td> 9.112280e-02</td></tr>\n",
       "\t<tr><th scope=row>edocivil</th><td>  1513.833442</td><td> 1</td><td> 0.000000e+00</td></tr>\n",
       "\t<tr><th scope=row>trabajo</th><td>    11.724304</td><td> 4</td><td> 1.952360e-02</td></tr>\n",
       "\t<tr><th scope=row>genero:lug_naci</th><td>     3.465547</td><td> 3</td><td> 3.252582e-01</td></tr>\n",
       "\t<tr><th scope=row>genero:edocivil</th><td>   720.873068</td><td> 1</td><td>8.645946e-159</td></tr>\n",
       "\t<tr><th scope=row>lug_naci:edocivil</th><td>   576.698454</td><td> 3</td><td>1.134194e-124</td></tr>\n",
       "\t<tr><th scope=row>genero:trabajo</th><td>     1.202498</td><td> 4</td><td> 8.776872e-01</td></tr>\n",
       "\t<tr><th scope=row>lug_naci:trabajo</th><td>    25.290120</td><td>12</td><td> 1.350636e-02</td></tr>\n",
       "\t<tr><th scope=row>edocivil:trabajo</th><td> -1153.396908</td><td> 4</td><td> 1.000000e+00</td></tr>\n",
       "\t<tr><th scope=row>genero:lug_naci:edocivil</th><td>   720.873068</td><td> 2</td><td>2.913414e-157</td></tr>\n",
       "\t<tr><th scope=row>genero:lug_naci:trabajo</th><td>-63600.273470</td><td> 4</td><td> 1.000000e+00</td></tr>\n",
       "\t<tr><th scope=row>genero:edocivil:trabajo</th><td>  1153.396908</td><td> 3</td><td>9.469981e-250</td></tr>\n",
       "\t<tr><th scope=row>lug_naci:edocivil:trabajo</th><td>  2162.619203</td><td>10</td><td> 0.000000e+00</td></tr>\n",
       "\t<tr><th scope=row>genero:lug_naci:edocivil:trabajo</th><td> -2739.317658</td><td> 3</td><td> 1.000000e+00</td></tr>\n",
       "</tbody>\n",
       "</table>\n"
      ],
      "text/latex": [
       "A anova: 15 × 3\n",
       "\\begin{tabular}{r|lll}\n",
       "  & LR Chisq & Df & Pr(>Chisq)\\\\\n",
       "  & <dbl> & <dbl> & <dbl>\\\\\n",
       "\\hline\n",
       "\tgenero &      5.695566 &  1 &  1.700783e-02\\\\\n",
       "\tlug\\_naci &      6.463259 &  3 &  9.112280e-02\\\\\n",
       "\tedocivil &   1513.833442 &  1 &  0.000000e+00\\\\\n",
       "\ttrabajo &     11.724304 &  4 &  1.952360e-02\\\\\n",
       "\tgenero:lug\\_naci &      3.465547 &  3 &  3.252582e-01\\\\\n",
       "\tgenero:edocivil &    720.873068 &  1 & 8.645946e-159\\\\\n",
       "\tlug\\_naci:edocivil &    576.698454 &  3 & 1.134194e-124\\\\\n",
       "\tgenero:trabajo &      1.202498 &  4 &  8.776872e-01\\\\\n",
       "\tlug\\_naci:trabajo &     25.290120 & 12 &  1.350636e-02\\\\\n",
       "\tedocivil:trabajo &  -1153.396908 &  4 &  1.000000e+00\\\\\n",
       "\tgenero:lug\\_naci:edocivil &    720.873068 &  2 & 2.913414e-157\\\\\n",
       "\tgenero:lug\\_naci:trabajo & -63600.273470 &  4 &  1.000000e+00\\\\\n",
       "\tgenero:edocivil:trabajo &   1153.396908 &  3 & 9.469981e-250\\\\\n",
       "\tlug\\_naci:edocivil:trabajo &   2162.619203 & 10 &  0.000000e+00\\\\\n",
       "\tgenero:lug\\_naci:edocivil:trabajo &  -2739.317658 &  3 &  1.000000e+00\\\\\n",
       "\\end{tabular}\n"
      ],
      "text/markdown": [
       "\n",
       "A anova: 15 × 3\n",
       "\n",
       "| <!--/--> | LR Chisq &lt;dbl&gt; | Df &lt;dbl&gt; | Pr(&gt;Chisq) &lt;dbl&gt; |\n",
       "|---|---|---|---|\n",
       "| genero |      5.695566 |  1 |  1.700783e-02 |\n",
       "| lug_naci |      6.463259 |  3 |  9.112280e-02 |\n",
       "| edocivil |   1513.833442 |  1 |  0.000000e+00 |\n",
       "| trabajo |     11.724304 |  4 |  1.952360e-02 |\n",
       "| genero:lug_naci |      3.465547 |  3 |  3.252582e-01 |\n",
       "| genero:edocivil |    720.873068 |  1 | 8.645946e-159 |\n",
       "| lug_naci:edocivil |    576.698454 |  3 | 1.134194e-124 |\n",
       "| genero:trabajo |      1.202498 |  4 |  8.776872e-01 |\n",
       "| lug_naci:trabajo |     25.290120 | 12 |  1.350636e-02 |\n",
       "| edocivil:trabajo |  -1153.396908 |  4 |  1.000000e+00 |\n",
       "| genero:lug_naci:edocivil |    720.873068 |  2 | 2.913414e-157 |\n",
       "| genero:lug_naci:trabajo | -63600.273470 |  4 |  1.000000e+00 |\n",
       "| genero:edocivil:trabajo |   1153.396908 |  3 | 9.469981e-250 |\n",
       "| lug_naci:edocivil:trabajo |   2162.619203 | 10 |  0.000000e+00 |\n",
       "| genero:lug_naci:edocivil:trabajo |  -2739.317658 |  3 |  1.000000e+00 |\n",
       "\n"
      ],
      "text/plain": [
       "                                 LR Chisq      Df Pr(>Chisq)   \n",
       "genero                                5.695566  1  1.700783e-02\n",
       "lug_naci                              6.463259  3  9.112280e-02\n",
       "edocivil                           1513.833442  1  0.000000e+00\n",
       "trabajo                              11.724304  4  1.952360e-02\n",
       "genero:lug_naci                       3.465547  3  3.252582e-01\n",
       "genero:edocivil                     720.873068  1 8.645946e-159\n",
       "lug_naci:edocivil                   576.698454  3 1.134194e-124\n",
       "genero:trabajo                        1.202498  4  8.776872e-01\n",
       "lug_naci:trabajo                     25.290120 12  1.350636e-02\n",
       "edocivil:trabajo                  -1153.396908  4  1.000000e+00\n",
       "genero:lug_naci:edocivil            720.873068  2 2.913414e-157\n",
       "genero:lug_naci:trabajo          -63600.273470  4  1.000000e+00\n",
       "genero:edocivil:trabajo            1153.396908  3 9.469981e-250\n",
       "lug_naci:edocivil:trabajo          2162.619203 10  0.000000e+00\n",
       "genero:lug_naci:edocivil:trabajo  -2739.317658  3  1.000000e+00"
      ]
     },
     "metadata": {},
     "output_type": "display_data"
    }
   ],
   "source": [
    "library(car)\n",
    "suppressWarnings(Anova(mi_glm_saturado, type=\"II\", test=\"LR\"))"
   ]
  },
  {
   "cell_type": "code",
   "execution_count": 21,
   "metadata": {},
   "outputs": [
    {
     "data": {
      "text/html": [
       "<table>\n",
       "<caption>A data.frame: 4 × 6</caption>\n",
       "<thead>\n",
       "\t<tr><th scope=col>interaccion</th><th scope=col>Estimate</th><th scope=col>Std. Error</th><th scope=col>z value</th><th scope=col>Pr(&gt;|z|)</th><th scope=col>ind_significancia</th></tr>\n",
       "\t<tr><th scope=col>&lt;fct&gt;</th><th scope=col>&lt;dbl&gt;</th><th scope=col>&lt;dbl&gt;</th><th scope=col>&lt;dbl&gt;</th><th scope=col>&lt;dbl&gt;</th><th scope=col>&lt;chr&gt;</th></tr>\n",
       "</thead>\n",
       "<tbody>\n",
       "\t<tr><td>generoMASCULINO                        </td><td> 0.5904675</td><td>0.2402963</td><td> 2.457247</td><td>0.01400062</td><td>*</td></tr>\n",
       "\t<tr><td>lug_naciZONA CENTRO                    </td><td>-2.0557803</td><td>1.1528039</td><td>-1.783287</td><td>0.07453957</td><td>.</td></tr>\n",
       "\t<tr><td>lug_naciZONA CENTRO:trabajoAGROPECUARIO</td><td> 2.0785481</td><td>1.1938597</td><td> 1.741032</td><td>0.08167795</td><td>.</td></tr>\n",
       "\t<tr><td>lug_naciZONA CENTRO:trabajoINDUSTRIA   </td><td> 2.5142841</td><td>1.1728819</td><td> 2.143681</td><td>0.03205849</td><td>*</td></tr>\n",
       "</tbody>\n",
       "</table>\n"
      ],
      "text/latex": [
       "A data.frame: 4 × 6\n",
       "\\begin{tabular}{r|llllll}\n",
       " interaccion & Estimate & Std. Error & z value & Pr(>\\textbar{}z\\textbar{}) & ind\\_significancia\\\\\n",
       " <fct> & <dbl> & <dbl> & <dbl> & <dbl> & <chr>\\\\\n",
       "\\hline\n",
       "\t generoMASCULINO                         &  0.5904675 & 0.2402963 &  2.457247 & 0.01400062 & *\\\\\n",
       "\t lug\\_naciZONA CENTRO                     & -2.0557803 & 1.1528039 & -1.783287 & 0.07453957 & .\\\\\n",
       "\t lug\\_naciZONA CENTRO:trabajoAGROPECUARIO &  2.0785481 & 1.1938597 &  1.741032 & 0.08167795 & .\\\\\n",
       "\t lug\\_naciZONA CENTRO:trabajoINDUSTRIA    &  2.5142841 & 1.1728819 &  2.143681 & 0.03205849 & *\\\\\n",
       "\\end{tabular}\n"
      ],
      "text/markdown": [
       "\n",
       "A data.frame: 4 × 6\n",
       "\n",
       "| interaccion &lt;fct&gt; | Estimate &lt;dbl&gt; | Std. Error &lt;dbl&gt; | z value &lt;dbl&gt; | Pr(&gt;|z|) &lt;dbl&gt; | ind_significancia &lt;chr&gt; |\n",
       "|---|---|---|---|---|---|\n",
       "| generoMASCULINO                         |  0.5904675 | 0.2402963 |  2.457247 | 0.01400062 | * |\n",
       "| lug_naciZONA CENTRO                     | -2.0557803 | 1.1528039 | -1.783287 | 0.07453957 | . |\n",
       "| lug_naciZONA CENTRO:trabajoAGROPECUARIO |  2.0785481 | 1.1938597 |  1.741032 | 0.08167795 | . |\n",
       "| lug_naciZONA CENTRO:trabajoINDUSTRIA    |  2.5142841 | 1.1728819 |  2.143681 | 0.03205849 | * |\n",
       "\n"
      ],
      "text/plain": [
       "  interaccion                             Estimate   Std. Error z value  \n",
       "1 generoMASCULINO                          0.5904675 0.2402963   2.457247\n",
       "2 lug_naciZONA CENTRO                     -2.0557803 1.1528039  -1.783287\n",
       "3 lug_naciZONA CENTRO:trabajoAGROPECUARIO  2.0785481 1.1938597   1.741032\n",
       "4 lug_naciZONA CENTRO:trabajoINDUSTRIA     2.5142841 1.1728819   2.143681\n",
       "  Pr(>|z|)   ind_significancia\n",
       "1 0.01400062 *                \n",
       "2 0.07453957 .                \n",
       "3 0.08167795 .                \n",
       "4 0.03205849 *                "
      ]
     },
     "metadata": {},
     "output_type": "display_data"
    }
   ],
   "source": [
    "mi_glm_trln <- glm(\n",
    "    data=remesas_catenvia,\n",
    "    # En la fórmula \"*\" significa la interacción entre las variables\n",
    "    formula=envia_dinero~genero+edocivil+lug_naci*trabajo,\n",
    "    family = binomial(link = \"logit\"),\n",
    "    # Para aumentar # de iteraciones si el modelo no converge\n",
    "    control = list(maxit = 1000)\n",
    ")\n",
    "\n",
    "\n",
    "coef_modelo <- coef(summary(mi_glm_trln))\n",
    "\n",
    "df_summary <- cbind(interaccion = rownames(coef_modelo), as.data.frame.matrix(coef_modelo))\n",
    "df_summary %>%\n",
    "    mutate(ind_significancia =\n",
    "        case_when(`Pr(>|z|)` <= 0.1 & `Pr(>|z|)` > 0.05 ~ '.',\n",
    "                  `Pr(>|z|)` <= 0.05 & `Pr(>|z|)` > 0.01 ~ '*',\n",
    "                  `Pr(>|z|)` <= 0.01 & `Pr(>|z|)` > 0.001 ~ '**',\n",
    "                  `Pr(>|z|)` <= 0.001 & `Pr(>|z|)` >=0 ~ '***',\n",
    "                  is.na(`Pr(>|z|)`) ~ '',\n",
    "                  TRUE ~ ''\n",
    "        )\n",
    "    ) %>%\n",
    "    filter(ind_significancia != \"\")"
   ]
  },
  {
   "cell_type": "code",
   "execution_count": 22,
   "metadata": {},
   "outputs": [
    {
     "data": {
      "image/png": "[encoded data removed]",
      "text/plain": [
       "plot without title"
      ]
     },
     "metadata": {},
     "output_type": "display_data"
    }
   ],
   "source": [
    "# plot_model(mi_glm_trln, type = \"int\")\n",
    "\n",
    "plot_model(mi_glm_trln, type = \"eff\", terms=c(\"trabajo\", \"genero\"), title=\"Efectos Marginales\")"
   ]
  },
  {
   "cell_type": "markdown",
   "metadata": {},
   "source": [
    "Nota sobre los símbolos utilizados en las fórmulas:\n",
    "\n",
    "\n",
    "  - \\- Para eliminar términos  \n",
    "  - : Para la interacción (no confundir con \\*)  \n",
    "  - %in% para anidamiento  \n",
    "  - ^ Para limitar el cruzamiento en el grado especificado.  \n",
    "  - \\* El operador denota cruzamiento entre factores, por ejemplo ‘a*b’ se interpreta como ‘a+b+a:b’\n",
    "  \n",
    "Más información en [este tutorial](https://www.datacamp.com/community/tutorials/r-formula-tutorial)"
   ]
  },
  {
   "cell_type": "markdown",
   "metadata": {},
   "source": [
    "  - All efects es para las interacciones\n",
    "  - fitted = valores ajustados"
   ]
  },
  {
   "cell_type": "markdown",
   "metadata": {},
   "source": [
    "- Modelo saturado: Todas las variables con interacciones\n",
    "- Se cambian las variables e interacciones.\n",
    "- Grafica efectos"
   ]
  },
  {
   "cell_type": "markdown",
   "metadata": {},
   "source": [
    "**Nota:** En este tipo de modelos, siempre se debe tener en cuenta qué se quiere estudiar. Por ejemplo al inicio pensaba que tenía que meter y sacar variables, pero no necesariamente, como en este caso que si se sacaban las variables que no eran significativas, no se podía saber bien cómo se comportaban los datos."
   ]
  }
 ],
 "metadata": {
  "kernelspec": {
   "display_name": "R",
   "language": "R",
   "name": "ir"
  },
  "language_info": {
   "codemirror_mode": "r",
   "file_extension": ".r",
   "mimetype": "text/x-r-source",
   "name": "R",
   "pygments_lexer": "r",
   "version": "3.6.1"
  },
  "latex_envs": {
   "LaTeX_envs_menu_present": true,
   "autoclose": false,
   "autocomplete": false,
   "bibliofile": "biblio.bib",
   "cite_by": "apalike",
   "current_citInitial": 1,
   "eqLabelWithNumbers": true,
   "eqNumInitial": 1,
   "hotkeys": {
    "equation": "Ctrl-E",
    "itemize": "Ctrl-I"
   },
   "labels_anchors": false,
   "latex_user_defs": false,
   "report_style_numbering": false,
   "user_envs_cfg": false
  }
 },
 "nbformat": 4,
 "nbformat_minor": 4
}
